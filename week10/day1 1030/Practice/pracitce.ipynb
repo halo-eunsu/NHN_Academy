{
 "cells": [
  {
   "cell_type": "code",
   "execution_count": 2,
   "metadata": {},
   "outputs": [],
   "source": [
    "import seaborn as sns"
   ]
  },
  {
   "cell_type": "code",
   "execution_count": 7,
   "metadata": {},
   "outputs": [
    {
     "data": {
      "text/plain": [
       "<Axes: ylabel='count'>"
      ]
     },
     "execution_count": 7,
     "metadata": {},
     "output_type": "execute_result"
    },
    {
     "data": {
      "image/png": "[encoded data removed]",
      "text/plain": [
       "<Figure size 640x480 with 1 Axes>"
      ]
     },
     "metadata": {},
     "output_type": "display_data"
    }
   ],
   "source": [
    "list = ['a','b','c','d','e','a','a      ']\n",
    "sns.countplot(x = list)"
   ]
  },
  {
   "cell_type": "code",
   "execution_count": 8,
   "metadata": {},
   "outputs": [],
   "source": [
    "df = sns.load_dataset('titanic')"
   ]
  },
  {
   "cell_type": "code",
   "execution_count": 9,
   "metadata": {},
   "outputs": [
    {
     "data": {
      "text/html": [
       "<div>\n",
       "<style scoped>\n",
       "    .dataframe tbody tr th:only-of-type {\n",
       "        vertical-align: middle;\n",
       "    }\n",
       "\n",
       "    .dataframe tbody tr th {\n",
       "        vertical-align: top;\n",
       "    }\n",
       "\n",
       "    .dataframe thead th {\n",
       "        text-align: right;\n",
       "    }\n",
       "</style>\n",
       "<table border=\"1\" class=\"dataframe\">\n",
       "  <thead>\n",
       "    <tr style=\"text-align: right;\">\n",
       "      <th></th>\n",
       "      <th>survived</th>\n",
       "      <th>pclass</th>\n",
       "      <th>sex</th>\n",
       "      <th>age</th>\n",
       "      <th>sibsp</th>\n",
       "      <th>parch</th>\n",
       "      <th>fare</th>\n",
       "      <th>embarked</th>\n",
       "      <th>class</th>\n",
       "      <th>who</th>\n",
       "      <th>adult_male</th>\n",
       "      <th>deck</th>\n",
       "      <th>embark_town</th>\n",
       "      <th>alive</th>\n",
       "      <th>alone</th>\n",
       "    </tr>\n",
       "  </thead>\n",
       "  <tbody>\n",
       "    <tr>\n",
       "      <th>0</th>\n",
       "      <td>0</td>\n",
       "      <td>3</td>\n",
       "      <td>male</td>\n",
       "      <td>22.0</td>\n",
       "      <td>1</td>\n",
       "      <td>0</td>\n",
       "      <td>7.2500</td>\n",
       "      <td>S</td>\n",
       "      <td>Third</td>\n",
       "      <td>man</td>\n",
       "      <td>True</td>\n",
       "      <td>NaN</td>\n",
       "      <td>Southampton</td>\n",
       "      <td>no</td>\n",
       "      <td>False</td>\n",
       "    </tr>\n",
       "    <tr>\n",
       "      <th>1</th>\n",
       "      <td>1</td>\n",
       "      <td>1</td>\n",
       "      <td>female</td>\n",
       "      <td>38.0</td>\n",
       "      <td>1</td>\n",
       "      <td>0</td>\n",
       "      <td>71.2833</td>\n",
       "      <td>C</td>\n",
       "      <td>First</td>\n",
       "      <td>woman</td>\n",
       "      <td>False</td>\n",
       "      <td>C</td>\n",
       "      <td>Cherbourg</td>\n",
       "      <td>yes</td>\n",
       "      <td>False</td>\n",
       "    </tr>\n",
       "    <tr>\n",
       "      <th>2</th>\n",
       "      <td>1</td>\n",
       "      <td>3</td>\n",
       "      <td>female</td>\n",
       "      <td>26.0</td>\n",
       "      <td>0</td>\n",
       "      <td>0</td>\n",
       "      <td>7.9250</td>\n",
       "      <td>S</td>\n",
       "      <td>Third</td>\n",
       "      <td>woman</td>\n",
       "      <td>False</td>\n",
       "      <td>NaN</td>\n",
       "      <td>Southampton</td>\n",
       "      <td>yes</td>\n",
       "      <td>True</td>\n",
       "    </tr>\n",
       "    <tr>\n",
       "      <th>3</th>\n",
       "      <td>1</td>\n",
       "      <td>1</td>\n",
       "      <td>female</td>\n",
       "      <td>35.0</td>\n",
       "      <td>1</td>\n",
       "      <td>0</td>\n",
       "      <td>53.1000</td>\n",
       "      <td>S</td>\n",
       "      <td>First</td>\n",
       "      <td>woman</td>\n",
       "      <td>False</td>\n",
       "      <td>C</td>\n",
       "      <td>Southampton</td>\n",
       "      <td>yes</td>\n",
       "      <td>False</td>\n",
       "    </tr>\n",
       "    <tr>\n",
       "      <th>4</th>\n",
       "      <td>0</td>\n",
       "      <td>3</td>\n",
       "      <td>male</td>\n",
       "      <td>35.0</td>\n",
       "      <td>0</td>\n",
       "      <td>0</td>\n",
       "      <td>8.0500</td>\n",
       "      <td>S</td>\n",
       "      <td>Third</td>\n",
       "      <td>man</td>\n",
       "      <td>True</td>\n",
       "      <td>NaN</td>\n",
       "      <td>Southampton</td>\n",
       "      <td>no</td>\n",
       "      <td>True</td>\n",
       "    </tr>\n",
       "    <tr>\n",
       "      <th>...</th>\n",
       "      <td>...</td>\n",
       "      <td>...</td>\n",
       "      <td>...</td>\n",
       "      <td>...</td>\n",
       "      <td>...</td>\n",
       "      <td>...</td>\n",
       "      <td>...</td>\n",
       "      <td>...</td>\n",
       "      <td>...</td>\n",
       "      <td>...</td>\n",
       "      <td>...</td>\n",
       "      <td>...</td>\n",
       "      <td>...</td>\n",
       "      <td>...</td>\n",
       "      <td>...</td>\n",
       "    </tr>\n",
       "    <tr>\n",
       "      <th>886</th>\n",
       "      <td>0</td>\n",
       "      <td>2</td>\n",
       "      <td>male</td>\n",
       "      <td>27.0</td>\n",
       "      <td>0</td>\n",
       "      <td>0</td>\n",
       "      <td>13.0000</td>\n",
       "      <td>S</td>\n",
       "      <td>Second</td>\n",
       "      <td>man</td>\n",
       "      <td>True</td>\n",
       "      <td>NaN</td>\n",
       "      <td>Southampton</td>\n",
       "      <td>no</td>\n",
       "      <td>True</td>\n",
       "    </tr>\n",
       "    <tr>\n",
       "      <th>887</th>\n",
       "      <td>1</td>\n",
       "      <td>1</td>\n",
       "      <td>female</td>\n",
       "      <td>19.0</td>\n",
       "      <td>0</td>\n",
       "      <td>0</td>\n",
       "      <td>30.0000</td>\n",
       "      <td>S</td>\n",
       "      <td>First</td>\n",
       "      <td>woman</td>\n",
       "      <td>False</td>\n",
       "      <td>B</td>\n",
       "      <td>Southampton</td>\n",
       "      <td>yes</td>\n",
       "      <td>True</td>\n",
       "    </tr>\n",
       "    <tr>\n",
       "      <th>888</th>\n",
       "      <td>0</td>\n",
       "      <td>3</td>\n",
       "      <td>female</td>\n",
       "      <td>NaN</td>\n",
       "      <td>1</td>\n",
       "      <td>2</td>\n",
       "      <td>23.4500</td>\n",
       "      <td>S</td>\n",
       "      <td>Third</td>\n",
       "      <td>woman</td>\n",
       "      <td>False</td>\n",
       "      <td>NaN</td>\n",
       "      <td>Southampton</td>\n",
       "      <td>no</td>\n",
       "      <td>False</td>\n",
       "    </tr>\n",
       "    <tr>\n",
       "      <th>889</th>\n",
       "      <td>1</td>\n",
       "      <td>1</td>\n",
       "      <td>male</td>\n",
       "      <td>26.0</td>\n",
       "      <td>0</td>\n",
       "      <td>0</td>\n",
       "      <td>30.0000</td>\n",
       "      <td>C</td>\n",
       "      <td>First</td>\n",
       "      <td>man</td>\n",
       "      <td>True</td>\n",
       "      <td>C</td>\n",
       "      <td>Cherbourg</td>\n",
       "      <td>yes</td>\n",
       "      <td>True</td>\n",
       "    </tr>\n",
       "    <tr>\n",
       "      <th>890</th>\n",
       "      <td>0</td>\n",
       "      <td>3</td>\n",
       "      <td>male</td>\n",
       "      <td>32.0</td>\n",
       "      <td>0</td>\n",
       "      <td>0</td>\n",
       "      <td>7.7500</td>\n",
       "      <td>Q</td>\n",
       "      <td>Third</td>\n",
       "      <td>man</td>\n",
       "      <td>True</td>\n",
       "      <td>NaN</td>\n",
       "      <td>Queenstown</td>\n",
       "      <td>no</td>\n",
       "      <td>True</td>\n",
       "    </tr>\n",
       "  </tbody>\n",
       "</table>\n",
       "<p>891 rows × 15 columns</p>\n",
       "</div>"
      ],
      "text/plain": [
       "     survived  pclass     sex   age  sibsp  parch     fare embarked   class  \\\n",
       "0           0       3    male  22.0      1      0   7.2500        S   Third   \n",
       "1           1       1  female  38.0      1      0  71.2833        C   First   \n",
       "2           1       3  female  26.0      0      0   7.9250        S   Third   \n",
       "3           1       1  female  35.0      1      0  53.1000        S   First   \n",
       "4           0       3    male  35.0      0      0   8.0500        S   Third   \n",
       "..        ...     ...     ...   ...    ...    ...      ...      ...     ...   \n",
       "886         0       2    male  27.0      0      0  13.0000        S  Second   \n",
       "887         1       1  female  19.0      0      0  30.0000        S   First   \n",
       "888         0       3  female   NaN      1      2  23.4500        S   Third   \n",
       "889         1       1    male  26.0      0      0  30.0000        C   First   \n",
       "890         0       3    male  32.0      0      0   7.7500        Q   Third   \n",
       "\n",
       "       who  adult_male deck  embark_town alive  alone  \n",
       "0      man        True  NaN  Southampton    no  False  \n",
       "1    woman       False    C    Cherbourg   yes  False  \n",
       "2    woman       False  NaN  Southampton   yes   True  \n",
       "3    woman       False    C  Southampton   yes  False  \n",
       "4      man        True  NaN  Southampton    no   True  \n",
       "..     ...         ...  ...          ...   ...    ...  \n",
       "886    man        True  NaN  Southampton    no   True  \n",
       "887  woman       False    B  Southampton   yes   True  \n",
       "888  woman       False  NaN  Southampton    no  False  \n",
       "889    man        True    C    Cherbourg   yes   True  \n",
       "890    man        True  NaN   Queenstown    no   True  \n",
       "\n",
       "[891 rows x 15 columns]"
      ]
     },
     "execution_count": 9,
     "metadata": {},
     "output_type": "execute_result"
    }
   ],
   "source": [
    "df"
   ]
  },
  {
   "cell_type": "code",
   "execution_count": 10,
   "metadata": {},
   "outputs": [
    {
     "data": {
      "text/plain": [
       "<Axes: xlabel='sex', ylabel='count'>"
      ]
     },
     "execution_count": 10,
     "metadata": {},
     "output_type": "execute_result"
    },
    {
     "data": {
      "image/png": "[encoded data removed]",
      "text/plain": [
       "<Figure size 640x480 with 1 Axes>"
      ]
     },
     "metadata": {},
     "output_type": "display_data"
    }
   ],
   "source": [
    "sns.countplot(data = df, x = 'sex')"
   ]
  },
  {
   "cell_type": "code",
   "execution_count": 11,
   "metadata": {},
   "outputs": [
    {
     "data": {
      "text/plain": [
       "<Axes: xlabel='class', ylabel='count'>"
      ]
     },
     "execution_count": 11,
     "metadata": {},
     "output_type": "execute_result"
    },
    {
     "data": {
      "image/png": "[encoded data removed]",
      "text/plain": [
       "<Figure size 640x480 with 1 Axes>"
      ]
     },
     "metadata": {},
     "output_type": "display_data"
    }
   ],
   "source": [
    "sns.countplot(data = df, x = 'class')"
   ]
  },
  {
   "cell_type": "code",
   "execution_count": 13,
   "metadata": {},
   "outputs": [
    {
     "data": {
      "text/plain": [
       "<Axes: xlabel='sex', ylabel='count'>"
      ]
     },
     "execution_count": 13,
     "metadata": {},
     "output_type": "execute_result"
    },
    {
     "data": {
      "image/png": "[encoded data removed]",
      "text/plain": [
       "<Figure size 640x480 with 1 Axes>"
      ]
     },
     "metadata": {},
     "output_type": "display_data"
    }
   ],
   "source": [
    "sns.countplot(data = df, x = 'sex', hue = 'alive')"
   ]
  },
  {
   "cell_type": "code",
   "execution_count": 14,
   "metadata": {},
   "outputs": [
    {
     "name": "stdout",
     "output_type": "stream",
     "text": [
      "\u001b[0;31mSignature:\u001b[0m\n",
      "\u001b[0msns\u001b[0m\u001b[0;34m.\u001b[0m\u001b[0mcountplot\u001b[0m\u001b[0;34m(\u001b[0m\u001b[0;34m\u001b[0m\n",
      "\u001b[0;34m\u001b[0m    \u001b[0mdata\u001b[0m\u001b[0;34m=\u001b[0m\u001b[0;32mNone\u001b[0m\u001b[0;34m,\u001b[0m\u001b[0;34m\u001b[0m\n",
      "\u001b[0;34m\u001b[0m    \u001b[0;34m*\u001b[0m\u001b[0;34m,\u001b[0m\u001b[0;34m\u001b[0m\n",
      "\u001b[0;34m\u001b[0m    \u001b[0mx\u001b[0m\u001b[0;34m=\u001b[0m\u001b[0;32mNone\u001b[0m\u001b[0;34m,\u001b[0m\u001b[0;34m\u001b[0m\n",
      "\u001b[0;34m\u001b[0m    \u001b[0my\u001b[0m\u001b[0;34m=\u001b[0m\u001b[0;32mNone\u001b[0m\u001b[0;34m,\u001b[0m\u001b[0;34m\u001b[0m\n",
      "\u001b[0;34m\u001b[0m    \u001b[0mhue\u001b[0m\u001b[0;34m=\u001b[0m\u001b[0;32mNone\u001b[0m\u001b[0;34m,\u001b[0m\u001b[0;34m\u001b[0m\n",
      "\u001b[0;34m\u001b[0m    \u001b[0morder\u001b[0m\u001b[0;34m=\u001b[0m\u001b[0;32mNone\u001b[0m\u001b[0;34m,\u001b[0m\u001b[0;34m\u001b[0m\n",
      "\u001b[0;34m\u001b[0m    \u001b[0mhue_order\u001b[0m\u001b[0;34m=\u001b[0m\u001b[0;32mNone\u001b[0m\u001b[0;34m,\u001b[0m\u001b[0;34m\u001b[0m\n",
      "\u001b[0;34m\u001b[0m    \u001b[0morient\u001b[0m\u001b[0;34m=\u001b[0m\u001b[0;32mNone\u001b[0m\u001b[0;34m,\u001b[0m\u001b[0;34m\u001b[0m\n",
      "\u001b[0;34m\u001b[0m    \u001b[0mcolor\u001b[0m\u001b[0;34m=\u001b[0m\u001b[0;32mNone\u001b[0m\u001b[0;34m,\u001b[0m\u001b[0;34m\u001b[0m\n",
      "\u001b[0;34m\u001b[0m    \u001b[0mpalette\u001b[0m\u001b[0;34m=\u001b[0m\u001b[0;32mNone\u001b[0m\u001b[0;34m,\u001b[0m\u001b[0;34m\u001b[0m\n",
      "\u001b[0;34m\u001b[0m    \u001b[0msaturation\u001b[0m\u001b[0;34m=\u001b[0m\u001b[0;36m0.75\u001b[0m\u001b[0;34m,\u001b[0m\u001b[0;34m\u001b[0m\n",
      "\u001b[0;34m\u001b[0m    \u001b[0mwidth\u001b[0m\u001b[0;34m=\u001b[0m\u001b[0;36m0.8\u001b[0m\u001b[0;34m,\u001b[0m\u001b[0;34m\u001b[0m\n",
      "\u001b[0;34m\u001b[0m    \u001b[0mdodge\u001b[0m\u001b[0;34m=\u001b[0m\u001b[0;32mTrue\u001b[0m\u001b[0;34m,\u001b[0m\u001b[0;34m\u001b[0m\n",
      "\u001b[0;34m\u001b[0m    \u001b[0max\u001b[0m\u001b[0;34m=\u001b[0m\u001b[0;32mNone\u001b[0m\u001b[0;34m,\u001b[0m\u001b[0;34m\u001b[0m\n",
      "\u001b[0;34m\u001b[0m    \u001b[0;34m**\u001b[0m\u001b[0mkwargs\u001b[0m\u001b[0;34m,\u001b[0m\u001b[0;34m\u001b[0m\n",
      "\u001b[0;34m\u001b[0m\u001b[0;34m)\u001b[0m\u001b[0;34m\u001b[0m\u001b[0;34m\u001b[0m\u001b[0m\n",
      "\u001b[0;31mDocstring:\u001b[0m\n",
      "Show the counts of observations in each categorical bin using bars.\n",
      "\n",
      "A count plot can be thought of as a histogram across a categorical, instead\n",
      "of quantitative, variable. The basic API and options are identical to those\n",
      "for :func:`barplot`, so you can compare counts across nested variables.\n",
      "\n",
      "Note that the newer :func:`histplot` function offers more functionality, although\n",
      "its default behavior is somewhat different.\n",
      "\n",
      ".. note::\n",
      "    This function always treats one of the variables as categorical and\n",
      "    draws data at ordinal positions (0, 1, ... n) on the relevant axis,\n",
      "    even when the data has a numeric or date type.\n",
      "\n",
      "See the :ref:`tutorial <categorical_tutorial>` for more information.    \n",
      "\n",
      "Parameters\n",
      "----------\n",
      "data : DataFrame, array, or list of arrays, optional\n",
      "    Dataset for plotting. If ``x`` and ``y`` are absent, this is\n",
      "    interpreted as wide-form. Otherwise it is expected to be long-form.    \n",
      "x, y, hue : names of variables in ``data`` or vector data, optional\n",
      "    Inputs for plotting long-form data. See examples for interpretation.    \n",
      "order, hue_order : lists of strings, optional\n",
      "    Order to plot the categorical levels in; otherwise the levels are\n",
      "    inferred from the data objects.    \n",
      "orient : \"v\" | \"h\", optional\n",
      "    Orientation of the plot (vertical or horizontal). This is usually\n",
      "    inferred based on the type of the input variables, but it can be used\n",
      "    to resolve ambiguity when both `x` and `y` are numeric or when\n",
      "    plotting wide-form data.    \n",
      "color : matplotlib color, optional\n",
      "    Single color for the elements in the plot.    \n",
      "palette : palette name, list, or dict\n",
      "    Colors to use for the different levels of the ``hue`` variable. Should\n",
      "    be something that can be interpreted by :func:`color_palette`, or a\n",
      "    dictionary mapping hue levels to matplotlib colors.    \n",
      "saturation : float, optional\n",
      "    Proportion of the original saturation to draw colors at. Large patches\n",
      "    often look better with slightly desaturated colors, but set this to\n",
      "    `1` if you want the plot colors to perfectly match the input color.    \n",
      "dodge : bool, optional\n",
      "    When hue nesting is used, whether elements should be shifted along the\n",
      "    categorical axis.    \n",
      "ax : matplotlib Axes, optional\n",
      "    Axes object to draw the plot onto, otherwise uses the current Axes.    \n",
      "kwargs : key, value mappings\n",
      "    Other keyword arguments are passed through to\n",
      "    :meth:`matplotlib.axes.Axes.bar`.\n",
      "\n",
      "Returns\n",
      "-------\n",
      "ax : matplotlib Axes\n",
      "    Returns the Axes object with the plot drawn onto it.    \n",
      "\n",
      "See Also\n",
      "--------\n",
      "barplot : Show point estimates and confidence intervals using bars.    \n",
      "catplot : Combine a categorical plot with a :class:`FacetGrid`.    \n",
      "\n",
      "Examples\n",
      "--------\n",
      "\n",
      ".. include:: ../docstrings/countplot.rst\n",
      "\u001b[0;31mFile:\u001b[0m      ~/anaconda3/lib/python3.9/site-packages/seaborn/categorical.py\n",
      "\u001b[0;31mType:\u001b[0m      function"
     ]
    }
   ],
   "source": [
    "sns.countplot?"
   ]
  },
  {
   "cell_type": "code",
   "execution_count": null,
   "metadata": {},
   "outputs": [],
   "source": []
  },
  {
   "cell_type": "markdown",
   "metadata": {},
   "source": [
    "\"2장\""
   ]
  },
  {
   "cell_type": "code",
   "execution_count": 15,
   "metadata": {},
   "outputs": [],
   "source": [
    "import pandas as pd"
   ]
  },
  {
   "cell_type": "code",
   "execution_count": 16,
   "metadata": {},
   "outputs": [
    {
     "data": {
      "text/plain": [
       "0    2023-10-20\n",
       "1          3.14\n",
       "2        Celine\n",
       "3          True\n",
       "dtype: object"
      ]
     },
     "execution_count": 16,
     "metadata": {},
     "output_type": "execute_result"
    }
   ],
   "source": [
    "list = ['2023-10-20', 3.14, 'Celine',True]\n",
    "series = pd.Series(list)\n",
    "series"
   ]
  },
  {
   "cell_type": "code",
   "execution_count": 18,
   "metadata": {},
   "outputs": [
    {
     "data": {
      "text/plain": [
       "0    2023-10-20\n",
       "1          3.14\n",
       "2        Celine\n",
       "3          True\n",
       "dtype: object"
      ]
     },
     "execution_count": 18,
     "metadata": {},
     "output_type": "execute_result"
    }
   ],
   "source": [
    "tup = ('2023-10-20', 3.14, 'Celine',True)\n",
    "series = pd.Series(tup)\n",
    "series"
   ]
  },
  {
   "cell_type": "code",
   "execution_count": 19,
   "metadata": {},
   "outputs": [
    {
     "data": {
      "text/plain": [
       "3.14"
      ]
     },
     "execution_count": 19,
     "metadata": {},
     "output_type": "execute_result"
    }
   ],
   "source": [
    "series[1]"
   ]
  },
  {
   "cell_type": "code",
   "execution_count": 23,
   "metadata": {},
   "outputs": [
    {
     "data": {
      "text/plain": [
       "'Cline'"
      ]
     },
     "execution_count": 23,
     "metadata": {},
     "output_type": "execute_result"
    }
   ],
   "source": [
    "tup = ('Cline', '1976-04-28', 'female',True)\n",
    "series1 = pd.Series(tup)\n",
    "series1.index = ['name','birthday','geneder','isStudent']\n",
    "series1[0]"
   ]
  },
  {
   "cell_type": "code",
   "execution_count": 25,
   "metadata": {},
   "outputs": [
    {
     "data": {
      "text/plain": [
       "{'name': 'Celine',\n",
       " 'birthday': '1976-04-28',\n",
       " 'geneder': 'female',\n",
       " 'isStudent': True}"
      ]
     },
     "execution_count": 25,
     "metadata": {},
     "output_type": "execute_result"
    }
   ],
   "source": [
    "dict = {'name':'Celine','birthday':'1976-04-28','geneder':'female','isStudent':True}\n",
    "dict"
   ]
  },
  {
   "cell_type": "code",
   "execution_count": 26,
   "metadata": {},
   "outputs": [
    {
     "data": {
      "text/plain": [
       "'Cline'"
      ]
     },
     "execution_count": 26,
     "metadata": {},
     "output_type": "execute_result"
    }
   ],
   "source": [
    "series1['name']"
   ]
  },
  {
   "cell_type": "code",
   "execution_count": 27,
   "metadata": {},
   "outputs": [
    {
     "data": {
      "text/plain": [
       "name             Cline\n",
       "birthday    1976-04-28\n",
       "dtype: object"
      ]
     },
     "execution_count": 27,
     "metadata": {},
     "output_type": "execute_result"
    }
   ],
   "source": [
    "series1[['name','birthday']]"
   ]
  },
  {
   "cell_type": "code",
   "execution_count": 28,
   "metadata": {},
   "outputs": [
    {
     "data": {
      "text/plain": [
       "birthday    1976-04-28\n",
       "geneder         female\n",
       "dtype: object"
      ]
     },
     "execution_count": 28,
     "metadata": {},
     "output_type": "execute_result"
    }
   ],
   "source": [
    "series1[1:3]"
   ]
  },
  {
   "cell_type": "code",
   "execution_count": 30,
   "metadata": {},
   "outputs": [
    {
     "data": {
      "text/plain": [
       "array(['Cline', '1976-04-28', 'female', True], dtype=object)"
      ]
     },
     "execution_count": 30,
     "metadata": {},
     "output_type": "execute_result"
    }
   ],
   "source": [
    "series.values"
   ]
  },
  {
   "cell_type": "markdown",
   "metadata": {},
   "source": [
    "2023 10 30 13:21"
   ]
  },
  {
   "cell_type": "code",
   "execution_count": 32,
   "metadata": {},
   "outputs": [],
   "source": [
    "df = pd.DataFrame"
   ]
  },
  {
   "cell_type": "code",
   "execution_count": 43,
   "metadata": {},
   "outputs": [],
   "source": [
    "df = pd.DataFrame([\n",
    "    \n",
    "    ['Celine','France',90,120,100],\n",
    "    ['James','USA',90,140,50],\n",
    "    ['Jason','UK',100,100,100],\n",
    "    ['Hans','Germany',400,100,100],\n",
    "    ['Mira','France',50,120,100]],\n",
    "    columns = ['name','nation','english','math','science']\n",
    "    \n",
    ")"
   ]
  },
  {
   "cell_type": "code",
   "execution_count": 40,
   "metadata": {},
   "outputs": [
    {
     "data": {
      "text/html": [
       "<div>\n",
       "<style scoped>\n",
       "    .dataframe tbody tr th:only-of-type {\n",
       "        vertical-align: middle;\n",
       "    }\n",
       "\n",
       "    .dataframe tbody tr th {\n",
       "        vertical-align: top;\n",
       "    }\n",
       "\n",
       "    .dataframe thead th {\n",
       "        text-align: right;\n",
       "    }\n",
       "</style>\n",
       "<table border=\"1\" class=\"dataframe\">\n",
       "  <thead>\n",
       "    <tr style=\"text-align: right;\">\n",
       "      <th></th>\n",
       "      <th>name</th>\n",
       "      <th>nation</th>\n",
       "      <th>english</th>\n",
       "      <th>math</th>\n",
       "      <th>science</th>\n",
       "    </tr>\n",
       "  </thead>\n",
       "  <tbody>\n",
       "    <tr>\n",
       "      <th>0</th>\n",
       "      <td>Celine</td>\n",
       "      <td>France</td>\n",
       "      <td>90</td>\n",
       "      <td>100</td>\n",
       "      <td>100</td>\n",
       "    </tr>\n",
       "    <tr>\n",
       "      <th>1</th>\n",
       "      <td>James</td>\n",
       "      <td>UK</td>\n",
       "      <td>80</td>\n",
       "      <td>40</td>\n",
       "      <td>30</td>\n",
       "    </tr>\n",
       "    <tr>\n",
       "      <th>2</th>\n",
       "      <td>Jason</td>\n",
       "      <td>USA</td>\n",
       "      <td>80</td>\n",
       "      <td>40</td>\n",
       "      <td>60</td>\n",
       "    </tr>\n",
       "    <tr>\n",
       "      <th>3</th>\n",
       "      <td>Hans</td>\n",
       "      <td>Germany</td>\n",
       "      <td>60</td>\n",
       "      <td>50</td>\n",
       "      <td>90</td>\n",
       "    </tr>\n",
       "  </tbody>\n",
       "</table>\n",
       "</div>"
      ],
      "text/plain": [
       "     name   nation  english  math  science\n",
       "0  Celine   France       90   100      100\n",
       "1   James       UK       80    40       30\n",
       "2   Jason      USA       80    40       60\n",
       "3    Hans  Germany       60    50       90"
      ]
     },
     "execution_count": 40,
     "metadata": {},
     "output_type": "execute_result"
    }
   ],
   "source": [
    "df"
   ]
  },
  {
   "cell_type": "code",
   "execution_count": 35,
   "metadata": {},
   "outputs": [
    {
     "data": {
      "text/plain": [
       "0    Celine\n",
       "1    France\n",
       "2        90\n",
       "3       120\n",
       "4       100\n",
       "Name: 0, dtype: object"
      ]
     },
     "execution_count": 35,
     "metadata": {},
     "output_type": "execute_result"
    }
   ],
   "source": [
    "df.iloc[0]"
   ]
  },
  {
   "cell_type": "code",
   "execution_count": null,
   "metadata": {},
   "outputs": [],
   "source": []
  },
  {
   "cell_type": "code",
   "execution_count": 38,
   "metadata": {},
   "outputs": [],
   "source": [
    "df = pd.DataFrame([\n",
    "    ['Celine', 'France', 90, 100, 100],\n",
    "    ['James','UK', 80, 40, 30],\n",
    "    ['Jason','USA',80, 40, 60],\n",
    "    ['Hans','Germany', 60, 50, 90]],\n",
    "    columns = ['name', 'nation', 'english', 'math', 'science']\n",
    ")"
   ]
  },
  {
   "cell_type": "code",
   "execution_count": 45,
   "metadata": {},
   "outputs": [
    {
     "data": {
      "text/plain": [
       "0    Celine\n",
       "1     James\n",
       "2     Jason\n",
       "3      Hans\n",
       "4      Mira\n",
       "Name: name, dtype: object"
      ]
     },
     "execution_count": 45,
     "metadata": {},
     "output_type": "execute_result"
    }
   ],
   "source": [
    "df['name']"
   ]
  },
  {
   "cell_type": "code",
   "execution_count": 49,
   "metadata": {},
   "outputs": [],
   "source": [
    "df = pd.DataFrame([\n",
    "    ['France', 90, 100, 100],\n",
    "    ['UK', 80, 40, 30],\n",
    "    ['USA',80, 40, 60],\n",
    "    ['Germany', 60, 50, 90]],\n",
    "    columns = ['nation', 'english', 'math', 'science'],\n",
    "    index = ['Celine','James','Jason','Hans']\n",
    "    \n",
    ")"
   ]
  },
  {
   "cell_type": "code",
   "execution_count": 50,
   "metadata": {},
   "outputs": [
    {
     "data": {
      "text/plain": [
       "'France'"
      ]
     },
     "execution_count": 50,
     "metadata": {},
     "output_type": "execute_result"
    }
   ],
   "source": [
    "df.loc['Celine','nation']"
   ]
  },
  {
   "cell_type": "code",
   "execution_count": 52,
   "metadata": {},
   "outputs": [],
   "source": [
    "df2 = pd.DataFrame({\n",
    "    \n",
    "    'name' : ['Celine', 'James', 'Jason', 'Hans'],\n",
    "    'nation' : ['France', 'UK', 'USA', 'Germany'],\n",
    "    'english' : [90,80,80,60],\n",
    "    'math' : [95,30,50,100],\n",
    "    'science' : [100,70,60,90]\n",
    "})\n",
    "    "
   ]
  },
  {
   "cell_type": "markdown",
   "metadata": {},
   "source": [
    "연습문제\n",
    "\n",
    "아래 데이터를 Data Frame으로 작성하세요\n",
    "DataFrame 객체 이름은 df_pop202309 로 지정합니다\n"
   ]
  },
  {
   "cell_type": "code",
   "execution_count": 67,
   "metadata": {},
   "outputs": [],
   "source": [
    "df_pop202309 = pd.DataFrame(\n",
    "    [['서울특별시',9407540,4475726,2.10,4552501,4855039],\n",
    "    ['부산광역시',3300836,1565115,2.11,1609650,1691186],\n",
    "    ['대구광역시',2377801,1092536,2.18,1168679,1209122],\n",
    "    ['인천광역시',2987918,1344029,2.22,1494725,1493193],\n",
    "    ['인천광역시',2987918,1344029,2.22,1494725,1493193],\n",
    "    ['인천광역시',2987918,1344029,2.22,1494725,1493193],\n",
    "    ['인천광역시',2987918,1344029,2.22,1494725,1493193],\n",
    "    ['인천광역시',2987918,1344029,2.22,1494725,1493193],\n",
    "    ['인천광역시',2987918,1344029,2.22,1494725,1493193],\n",
    "    ['인천광역시',2987918,1344029,2.22,1494725,1493193],\n",
    "    \n",
    "    \n",
    "    ],\n",
    "    columns = ['행정구역','총인구수','세대수','세대당인구','남자인구수','여자인구수']\n",
    "    \n",
    ")"
   ]
  },
  {
   "cell_type": "code",
   "execution_count": 68,
   "metadata": {},
   "outputs": [
    {
     "data": {
      "text/html": [
       "<div>\n",
       "<style scoped>\n",
       "    .dataframe tbody tr th:only-of-type {\n",
       "        vertical-align: middle;\n",
       "    }\n",
       "\n",
       "    .dataframe tbody tr th {\n",
       "        vertical-align: top;\n",
       "    }\n",
       "\n",
       "    .dataframe thead th {\n",
       "        text-align: right;\n",
       "    }\n",
       "</style>\n",
       "<table border=\"1\" class=\"dataframe\">\n",
       "  <thead>\n",
       "    <tr style=\"text-align: right;\">\n",
       "      <th></th>\n",
       "      <th>행정구역</th>\n",
       "      <th>총인구수</th>\n",
       "      <th>세대수</th>\n",
       "      <th>세대당인구</th>\n",
       "      <th>남자인구수</th>\n",
       "      <th>여자인구수</th>\n",
       "    </tr>\n",
       "  </thead>\n",
       "  <tbody>\n",
       "    <tr>\n",
       "      <th>0</th>\n",
       "      <td>서울특별시</td>\n",
       "      <td>9407540</td>\n",
       "      <td>4475726</td>\n",
       "      <td>2.10</td>\n",
       "      <td>4552501</td>\n",
       "      <td>4855039</td>\n",
       "    </tr>\n",
       "    <tr>\n",
       "      <th>1</th>\n",
       "      <td>부산광역시</td>\n",
       "      <td>3300836</td>\n",
       "      <td>1565115</td>\n",
       "      <td>2.11</td>\n",
       "      <td>1609650</td>\n",
       "      <td>1691186</td>\n",
       "    </tr>\n",
       "    <tr>\n",
       "      <th>2</th>\n",
       "      <td>대구광역시</td>\n",
       "      <td>2377801</td>\n",
       "      <td>1092536</td>\n",
       "      <td>2.18</td>\n",
       "      <td>1168679</td>\n",
       "      <td>1209122</td>\n",
       "    </tr>\n",
       "    <tr>\n",
       "      <th>3</th>\n",
       "      <td>인천광역시</td>\n",
       "      <td>2987918</td>\n",
       "      <td>1344029</td>\n",
       "      <td>2.22</td>\n",
       "      <td>1494725</td>\n",
       "      <td>1493193</td>\n",
       "    </tr>\n",
       "    <tr>\n",
       "      <th>4</th>\n",
       "      <td>인천광역시</td>\n",
       "      <td>2987918</td>\n",
       "      <td>1344029</td>\n",
       "      <td>2.22</td>\n",
       "      <td>1494725</td>\n",
       "      <td>1493193</td>\n",
       "    </tr>\n",
       "    <tr>\n",
       "      <th>5</th>\n",
       "      <td>인천광역시</td>\n",
       "      <td>2987918</td>\n",
       "      <td>1344029</td>\n",
       "      <td>2.22</td>\n",
       "      <td>1494725</td>\n",
       "      <td>1493193</td>\n",
       "    </tr>\n",
       "    <tr>\n",
       "      <th>6</th>\n",
       "      <td>인천광역시</td>\n",
       "      <td>2987918</td>\n",
       "      <td>1344029</td>\n",
       "      <td>2.22</td>\n",
       "      <td>1494725</td>\n",
       "      <td>1493193</td>\n",
       "    </tr>\n",
       "    <tr>\n",
       "      <th>7</th>\n",
       "      <td>인천광역시</td>\n",
       "      <td>2987918</td>\n",
       "      <td>1344029</td>\n",
       "      <td>2.22</td>\n",
       "      <td>1494725</td>\n",
       "      <td>1493193</td>\n",
       "    </tr>\n",
       "    <tr>\n",
       "      <th>8</th>\n",
       "      <td>인천광역시</td>\n",
       "      <td>2987918</td>\n",
       "      <td>1344029</td>\n",
       "      <td>2.22</td>\n",
       "      <td>1494725</td>\n",
       "      <td>1493193</td>\n",
       "    </tr>\n",
       "    <tr>\n",
       "      <th>9</th>\n",
       "      <td>인천광역시</td>\n",
       "      <td>2987918</td>\n",
       "      <td>1344029</td>\n",
       "      <td>2.22</td>\n",
       "      <td>1494725</td>\n",
       "      <td>1493193</td>\n",
       "    </tr>\n",
       "  </tbody>\n",
       "</table>\n",
       "</div>"
      ],
      "text/plain": [
       "    행정구역     총인구수      세대수  세대당인구    남자인구수    여자인구수\n",
       "0  서울특별시  9407540  4475726   2.10  4552501  4855039\n",
       "1  부산광역시  3300836  1565115   2.11  1609650  1691186\n",
       "2  대구광역시  2377801  1092536   2.18  1168679  1209122\n",
       "3  인천광역시  2987918  1344029   2.22  1494725  1493193\n",
       "4  인천광역시  2987918  1344029   2.22  1494725  1493193\n",
       "5  인천광역시  2987918  1344029   2.22  1494725  1493193\n",
       "6  인천광역시  2987918  1344029   2.22  1494725  1493193\n",
       "7  인천광역시  2987918  1344029   2.22  1494725  1493193\n",
       "8  인천광역시  2987918  1344029   2.22  1494725  1493193\n",
       "9  인천광역시  2987918  1344029   2.22  1494725  1493193"
      ]
     },
     "execution_count": 68,
     "metadata": {},
     "output_type": "execute_result"
    }
   ],
   "source": [
    "df_pop202309\n"
   ]
  },
  {
   "cell_type": "code",
   "execution_count": 84,
   "metadata": {},
   "outputs": [],
   "source": [
    "df_pop = df_pop202309.copy()"
   ]
  },
  {
   "cell_type": "code",
   "execution_count": 85,
   "metadata": {},
   "outputs": [
    {
     "data": {
      "text/html": [
       "<div>\n",
       "<style scoped>\n",
       "    .dataframe tbody tr th:only-of-type {\n",
       "        vertical-align: middle;\n",
       "    }\n",
       "\n",
       "    .dataframe tbody tr th {\n",
       "        vertical-align: top;\n",
       "    }\n",
       "\n",
       "    .dataframe thead th {\n",
       "        text-align: right;\n",
       "    }\n",
       "</style>\n",
       "<table border=\"1\" class=\"dataframe\">\n",
       "  <thead>\n",
       "    <tr style=\"text-align: right;\">\n",
       "      <th></th>\n",
       "      <th>행정구역</th>\n",
       "      <th>총인구수</th>\n",
       "      <th>세대수</th>\n",
       "      <th>세대당인구</th>\n",
       "      <th>남자인구수</th>\n",
       "      <th>여자인구수</th>\n",
       "    </tr>\n",
       "  </thead>\n",
       "  <tbody>\n",
       "    <tr>\n",
       "      <th>0</th>\n",
       "      <td>서울특별시</td>\n",
       "      <td>9407540</td>\n",
       "      <td>4475726</td>\n",
       "      <td>2.10</td>\n",
       "      <td>4552501</td>\n",
       "      <td>4855039</td>\n",
       "    </tr>\n",
       "    <tr>\n",
       "      <th>1</th>\n",
       "      <td>부산광역시</td>\n",
       "      <td>3300836</td>\n",
       "      <td>1565115</td>\n",
       "      <td>2.11</td>\n",
       "      <td>1609650</td>\n",
       "      <td>1691186</td>\n",
       "    </tr>\n",
       "    <tr>\n",
       "      <th>2</th>\n",
       "      <td>대구광역시</td>\n",
       "      <td>2377801</td>\n",
       "      <td>1092536</td>\n",
       "      <td>2.18</td>\n",
       "      <td>1168679</td>\n",
       "      <td>1209122</td>\n",
       "    </tr>\n",
       "    <tr>\n",
       "      <th>3</th>\n",
       "      <td>인천광역시</td>\n",
       "      <td>2987918</td>\n",
       "      <td>1344029</td>\n",
       "      <td>2.22</td>\n",
       "      <td>1494725</td>\n",
       "      <td>1493193</td>\n",
       "    </tr>\n",
       "    <tr>\n",
       "      <th>4</th>\n",
       "      <td>인천광역시</td>\n",
       "      <td>2987918</td>\n",
       "      <td>1344029</td>\n",
       "      <td>2.22</td>\n",
       "      <td>1494725</td>\n",
       "      <td>1493193</td>\n",
       "    </tr>\n",
       "    <tr>\n",
       "      <th>5</th>\n",
       "      <td>인천광역시</td>\n",
       "      <td>2987918</td>\n",
       "      <td>1344029</td>\n",
       "      <td>2.22</td>\n",
       "      <td>1494725</td>\n",
       "      <td>1493193</td>\n",
       "    </tr>\n",
       "    <tr>\n",
       "      <th>6</th>\n",
       "      <td>인천광역시</td>\n",
       "      <td>2987918</td>\n",
       "      <td>1344029</td>\n",
       "      <td>2.22</td>\n",
       "      <td>1494725</td>\n",
       "      <td>1493193</td>\n",
       "    </tr>\n",
       "    <tr>\n",
       "      <th>7</th>\n",
       "      <td>인천광역시</td>\n",
       "      <td>2987918</td>\n",
       "      <td>1344029</td>\n",
       "      <td>2.22</td>\n",
       "      <td>1494725</td>\n",
       "      <td>1493193</td>\n",
       "    </tr>\n",
       "    <tr>\n",
       "      <th>8</th>\n",
       "      <td>인천광역시</td>\n",
       "      <td>2987918</td>\n",
       "      <td>1344029</td>\n",
       "      <td>2.22</td>\n",
       "      <td>1494725</td>\n",
       "      <td>1493193</td>\n",
       "    </tr>\n",
       "    <tr>\n",
       "      <th>9</th>\n",
       "      <td>인천광역시</td>\n",
       "      <td>2987918</td>\n",
       "      <td>1344029</td>\n",
       "      <td>2.22</td>\n",
       "      <td>1494725</td>\n",
       "      <td>1493193</td>\n",
       "    </tr>\n",
       "  </tbody>\n",
       "</table>\n",
       "</div>"
      ],
      "text/plain": [
       "    행정구역     총인구수      세대수  세대당인구    남자인구수    여자인구수\n",
       "0  서울특별시  9407540  4475726   2.10  4552501  4855039\n",
       "1  부산광역시  3300836  1565115   2.11  1609650  1691186\n",
       "2  대구광역시  2377801  1092536   2.18  1168679  1209122\n",
       "3  인천광역시  2987918  1344029   2.22  1494725  1493193\n",
       "4  인천광역시  2987918  1344029   2.22  1494725  1493193\n",
       "5  인천광역시  2987918  1344029   2.22  1494725  1493193\n",
       "6  인천광역시  2987918  1344029   2.22  1494725  1493193\n",
       "7  인천광역시  2987918  1344029   2.22  1494725  1493193\n",
       "8  인천광역시  2987918  1344029   2.22  1494725  1493193\n",
       "9  인천광역시  2987918  1344029   2.22  1494725  1493193"
      ]
     },
     "execution_count": 85,
     "metadata": {},
     "output_type": "execute_result"
    }
   ],
   "source": [
    "df_pop\n"
   ]
  },
  {
   "cell_type": "code",
   "execution_count": 86,
   "metadata": {},
   "outputs": [],
   "source": [
    "df_pop = df_pop.rename(columns= {'행정구역':'district'})\n",
    "df_pop.rename(columns={'총인구수':'population','세대수':'household'}, inplace=True)\n"
   ]
  },
  {
   "cell_type": "code",
   "execution_count": 87,
   "metadata": {},
   "outputs": [
    {
     "data": {
      "text/html": [
       "<div>\n",
       "<style scoped>\n",
       "    .dataframe tbody tr th:only-of-type {\n",
       "        vertical-align: middle;\n",
       "    }\n",
       "\n",
       "    .dataframe tbody tr th {\n",
       "        vertical-align: top;\n",
       "    }\n",
       "\n",
       "    .dataframe thead th {\n",
       "        text-align: right;\n",
       "    }\n",
       "</style>\n",
       "<table border=\"1\" class=\"dataframe\">\n",
       "  <thead>\n",
       "    <tr style=\"text-align: right;\">\n",
       "      <th></th>\n",
       "      <th>district</th>\n",
       "      <th>population</th>\n",
       "      <th>household</th>\n",
       "      <th>세대당인구</th>\n",
       "      <th>남자인구수</th>\n",
       "      <th>여자인구수</th>\n",
       "    </tr>\n",
       "  </thead>\n",
       "  <tbody>\n",
       "    <tr>\n",
       "      <th>0</th>\n",
       "      <td>서울특별시</td>\n",
       "      <td>9407540</td>\n",
       "      <td>4475726</td>\n",
       "      <td>2.10</td>\n",
       "      <td>4552501</td>\n",
       "      <td>4855039</td>\n",
       "    </tr>\n",
       "    <tr>\n",
       "      <th>1</th>\n",
       "      <td>부산광역시</td>\n",
       "      <td>3300836</td>\n",
       "      <td>1565115</td>\n",
       "      <td>2.11</td>\n",
       "      <td>1609650</td>\n",
       "      <td>1691186</td>\n",
       "    </tr>\n",
       "    <tr>\n",
       "      <th>2</th>\n",
       "      <td>대구광역시</td>\n",
       "      <td>2377801</td>\n",
       "      <td>1092536</td>\n",
       "      <td>2.18</td>\n",
       "      <td>1168679</td>\n",
       "      <td>1209122</td>\n",
       "    </tr>\n",
       "    <tr>\n",
       "      <th>3</th>\n",
       "      <td>인천광역시</td>\n",
       "      <td>2987918</td>\n",
       "      <td>1344029</td>\n",
       "      <td>2.22</td>\n",
       "      <td>1494725</td>\n",
       "      <td>1493193</td>\n",
       "    </tr>\n",
       "    <tr>\n",
       "      <th>4</th>\n",
       "      <td>인천광역시</td>\n",
       "      <td>2987918</td>\n",
       "      <td>1344029</td>\n",
       "      <td>2.22</td>\n",
       "      <td>1494725</td>\n",
       "      <td>1493193</td>\n",
       "    </tr>\n",
       "    <tr>\n",
       "      <th>5</th>\n",
       "      <td>인천광역시</td>\n",
       "      <td>2987918</td>\n",
       "      <td>1344029</td>\n",
       "      <td>2.22</td>\n",
       "      <td>1494725</td>\n",
       "      <td>1493193</td>\n",
       "    </tr>\n",
       "    <tr>\n",
       "      <th>6</th>\n",
       "      <td>인천광역시</td>\n",
       "      <td>2987918</td>\n",
       "      <td>1344029</td>\n",
       "      <td>2.22</td>\n",
       "      <td>1494725</td>\n",
       "      <td>1493193</td>\n",
       "    </tr>\n",
       "    <tr>\n",
       "      <th>7</th>\n",
       "      <td>인천광역시</td>\n",
       "      <td>2987918</td>\n",
       "      <td>1344029</td>\n",
       "      <td>2.22</td>\n",
       "      <td>1494725</td>\n",
       "      <td>1493193</td>\n",
       "    </tr>\n",
       "    <tr>\n",
       "      <th>8</th>\n",
       "      <td>인천광역시</td>\n",
       "      <td>2987918</td>\n",
       "      <td>1344029</td>\n",
       "      <td>2.22</td>\n",
       "      <td>1494725</td>\n",
       "      <td>1493193</td>\n",
       "    </tr>\n",
       "    <tr>\n",
       "      <th>9</th>\n",
       "      <td>인천광역시</td>\n",
       "      <td>2987918</td>\n",
       "      <td>1344029</td>\n",
       "      <td>2.22</td>\n",
       "      <td>1494725</td>\n",
       "      <td>1493193</td>\n",
       "    </tr>\n",
       "  </tbody>\n",
       "</table>\n",
       "</div>"
      ],
      "text/plain": [
       "  district  population  household  세대당인구    남자인구수    여자인구수\n",
       "0    서울특별시     9407540    4475726   2.10  4552501  4855039\n",
       "1    부산광역시     3300836    1565115   2.11  1609650  1691186\n",
       "2    대구광역시     2377801    1092536   2.18  1168679  1209122\n",
       "3    인천광역시     2987918    1344029   2.22  1494725  1493193\n",
       "4    인천광역시     2987918    1344029   2.22  1494725  1493193\n",
       "5    인천광역시     2987918    1344029   2.22  1494725  1493193\n",
       "6    인천광역시     2987918    1344029   2.22  1494725  1493193\n",
       "7    인천광역시     2987918    1344029   2.22  1494725  1493193\n",
       "8    인천광역시     2987918    1344029   2.22  1494725  1493193\n",
       "9    인천광역시     2987918    1344029   2.22  1494725  1493193"
      ]
     },
     "execution_count": 87,
     "metadata": {},
     "output_type": "execute_result"
    }
   ],
   "source": [
    "df_pop"
   ]
  },
  {
   "cell_type": "code",
   "execution_count": 88,
   "metadata": {},
   "outputs": [],
   "source": [
    "df_pop.index = df_pop['district']"
   ]
  },
  {
   "cell_type": "code",
   "execution_count": 89,
   "metadata": {},
   "outputs": [
    {
     "data": {
      "text/html": [
       "<div>\n",
       "<style scoped>\n",
       "    .dataframe tbody tr th:only-of-type {\n",
       "        vertical-align: middle;\n",
       "    }\n",
       "\n",
       "    .dataframe tbody tr th {\n",
       "        vertical-align: top;\n",
       "    }\n",
       "\n",
       "    .dataframe thead th {\n",
       "        text-align: right;\n",
       "    }\n",
       "</style>\n",
       "<table border=\"1\" class=\"dataframe\">\n",
       "  <thead>\n",
       "    <tr style=\"text-align: right;\">\n",
       "      <th></th>\n",
       "      <th>population</th>\n",
       "      <th>household</th>\n",
       "      <th>세대당인구</th>\n",
       "      <th>남자인구수</th>\n",
       "      <th>여자인구수</th>\n",
       "    </tr>\n",
       "    <tr>\n",
       "      <th>district</th>\n",
       "      <th></th>\n",
       "      <th></th>\n",
       "      <th></th>\n",
       "      <th></th>\n",
       "      <th></th>\n",
       "    </tr>\n",
       "  </thead>\n",
       "  <tbody>\n",
       "    <tr>\n",
       "      <th>서울특별시</th>\n",
       "      <td>9407540</td>\n",
       "      <td>4475726</td>\n",
       "      <td>2.10</td>\n",
       "      <td>4552501</td>\n",
       "      <td>4855039</td>\n",
       "    </tr>\n",
       "    <tr>\n",
       "      <th>부산광역시</th>\n",
       "      <td>3300836</td>\n",
       "      <td>1565115</td>\n",
       "      <td>2.11</td>\n",
       "      <td>1609650</td>\n",
       "      <td>1691186</td>\n",
       "    </tr>\n",
       "    <tr>\n",
       "      <th>대구광역시</th>\n",
       "      <td>2377801</td>\n",
       "      <td>1092536</td>\n",
       "      <td>2.18</td>\n",
       "      <td>1168679</td>\n",
       "      <td>1209122</td>\n",
       "    </tr>\n",
       "    <tr>\n",
       "      <th>인천광역시</th>\n",
       "      <td>2987918</td>\n",
       "      <td>1344029</td>\n",
       "      <td>2.22</td>\n",
       "      <td>1494725</td>\n",
       "      <td>1493193</td>\n",
       "    </tr>\n",
       "    <tr>\n",
       "      <th>인천광역시</th>\n",
       "      <td>2987918</td>\n",
       "      <td>1344029</td>\n",
       "      <td>2.22</td>\n",
       "      <td>1494725</td>\n",
       "      <td>1493193</td>\n",
       "    </tr>\n",
       "    <tr>\n",
       "      <th>인천광역시</th>\n",
       "      <td>2987918</td>\n",
       "      <td>1344029</td>\n",
       "      <td>2.22</td>\n",
       "      <td>1494725</td>\n",
       "      <td>1493193</td>\n",
       "    </tr>\n",
       "    <tr>\n",
       "      <th>인천광역시</th>\n",
       "      <td>2987918</td>\n",
       "      <td>1344029</td>\n",
       "      <td>2.22</td>\n",
       "      <td>1494725</td>\n",
       "      <td>1493193</td>\n",
       "    </tr>\n",
       "    <tr>\n",
       "      <th>인천광역시</th>\n",
       "      <td>2987918</td>\n",
       "      <td>1344029</td>\n",
       "      <td>2.22</td>\n",
       "      <td>1494725</td>\n",
       "      <td>1493193</td>\n",
       "    </tr>\n",
       "    <tr>\n",
       "      <th>인천광역시</th>\n",
       "      <td>2987918</td>\n",
       "      <td>1344029</td>\n",
       "      <td>2.22</td>\n",
       "      <td>1494725</td>\n",
       "      <td>1493193</td>\n",
       "    </tr>\n",
       "    <tr>\n",
       "      <th>인천광역시</th>\n",
       "      <td>2987918</td>\n",
       "      <td>1344029</td>\n",
       "      <td>2.22</td>\n",
       "      <td>1494725</td>\n",
       "      <td>1493193</td>\n",
       "    </tr>\n",
       "  </tbody>\n",
       "</table>\n",
       "</div>"
      ],
      "text/plain": [
       "          population  household  세대당인구    남자인구수    여자인구수\n",
       "district                                                \n",
       "서울특별시        9407540    4475726   2.10  4552501  4855039\n",
       "부산광역시        3300836    1565115   2.11  1609650  1691186\n",
       "대구광역시        2377801    1092536   2.18  1168679  1209122\n",
       "인천광역시        2987918    1344029   2.22  1494725  1493193\n",
       "인천광역시        2987918    1344029   2.22  1494725  1493193\n",
       "인천광역시        2987918    1344029   2.22  1494725  1493193\n",
       "인천광역시        2987918    1344029   2.22  1494725  1493193\n",
       "인천광역시        2987918    1344029   2.22  1494725  1493193\n",
       "인천광역시        2987918    1344029   2.22  1494725  1493193\n",
       "인천광역시        2987918    1344029   2.22  1494725  1493193"
      ]
     },
     "execution_count": 89,
     "metadata": {},
     "output_type": "execute_result"
    }
   ],
   "source": [
    "df_pop.drop(columns=['district'])"
   ]
  },
  {
   "cell_type": "code",
   "execution_count": 90,
   "metadata": {},
   "outputs": [],
   "source": [
    "import pandas as pd"
   ]
  },
  {
   "cell_type": "code",
   "execution_count": 94,
   "metadata": {},
   "outputs": [
    {
     "data": {
      "text/html": [
       "<div>\n",
       "<style scoped>\n",
       "    .dataframe tbody tr th:only-of-type {\n",
       "        vertical-align: middle;\n",
       "    }\n",
       "\n",
       "    .dataframe tbody tr th {\n",
       "        vertical-align: top;\n",
       "    }\n",
       "\n",
       "    .dataframe thead th {\n",
       "        text-align: right;\n",
       "    }\n",
       "</style>\n",
       "<table border=\"1\" class=\"dataframe\">\n",
       "  <thead>\n",
       "    <tr style=\"text-align: right;\">\n",
       "      <th></th>\n",
       "      <th>행정구역</th>\n",
       "      <th>2023년09월_총인구수</th>\n",
       "      <th>2023년09월_세대수</th>\n",
       "      <th>2023년09월_세대당 인구</th>\n",
       "      <th>2023년09월_남자 인구수</th>\n",
       "      <th>2023년09월_여자 인구수</th>\n",
       "      <th>2023년09월_남여 비율</th>\n",
       "    </tr>\n",
       "  </thead>\n",
       "  <tbody>\n",
       "    <tr>\n",
       "      <th>0</th>\n",
       "      <td>전국  (1000000000)</td>\n",
       "      <td>51,370,001</td>\n",
       "      <td>23,900,917</td>\n",
       "      <td>2.15</td>\n",
       "      <td>25,592,335</td>\n",
       "      <td>25,777,666</td>\n",
       "      <td>0.99</td>\n",
       "    </tr>\n",
       "    <tr>\n",
       "      <th>1</th>\n",
       "      <td>서울특별시  (1100000000)</td>\n",
       "      <td>9,407,540</td>\n",
       "      <td>4,475,726</td>\n",
       "      <td>2.10</td>\n",
       "      <td>4,552,501</td>\n",
       "      <td>4,855,039</td>\n",
       "      <td>0.94</td>\n",
       "    </tr>\n",
       "    <tr>\n",
       "      <th>2</th>\n",
       "      <td>부산광역시  (2600000000)</td>\n",
       "      <td>3,300,836</td>\n",
       "      <td>1,565,115</td>\n",
       "      <td>2.11</td>\n",
       "      <td>1,609,650</td>\n",
       "      <td>1,691,186</td>\n",
       "      <td>0.95</td>\n",
       "    </tr>\n",
       "    <tr>\n",
       "      <th>3</th>\n",
       "      <td>대구광역시  (2700000000)</td>\n",
       "      <td>2,377,801</td>\n",
       "      <td>1,092,536</td>\n",
       "      <td>2.18</td>\n",
       "      <td>1,168,679</td>\n",
       "      <td>1,209,122</td>\n",
       "      <td>0.97</td>\n",
       "    </tr>\n",
       "    <tr>\n",
       "      <th>4</th>\n",
       "      <td>인천광역시  (2800000000)</td>\n",
       "      <td>2,987,918</td>\n",
       "      <td>1,344,029</td>\n",
       "      <td>2.22</td>\n",
       "      <td>1,494,725</td>\n",
       "      <td>1,493,193</td>\n",
       "      <td>1.00</td>\n",
       "    </tr>\n",
       "    <tr>\n",
       "      <th>5</th>\n",
       "      <td>광주광역시  (2900000000)</td>\n",
       "      <td>1,422,999</td>\n",
       "      <td>656,061</td>\n",
       "      <td>2.17</td>\n",
       "      <td>702,748</td>\n",
       "      <td>720,251</td>\n",
       "      <td>0.98</td>\n",
       "    </tr>\n",
       "    <tr>\n",
       "      <th>6</th>\n",
       "      <td>대전광역시  (3000000000)</td>\n",
       "      <td>1,444,595</td>\n",
       "      <td>680,653</td>\n",
       "      <td>2.12</td>\n",
       "      <td>720,520</td>\n",
       "      <td>724,075</td>\n",
       "      <td>1.00</td>\n",
       "    </tr>\n",
       "    <tr>\n",
       "      <th>7</th>\n",
       "      <td>울산광역시  (3100000000)</td>\n",
       "      <td>1,104,167</td>\n",
       "      <td>489,298</td>\n",
       "      <td>2.26</td>\n",
       "      <td>567,314</td>\n",
       "      <td>536,853</td>\n",
       "      <td>1.06</td>\n",
       "    </tr>\n",
       "    <tr>\n",
       "      <th>8</th>\n",
       "      <td>세종특별자치시  (3600000000)</td>\n",
       "      <td>385,932</td>\n",
       "      <td>160,479</td>\n",
       "      <td>2.40</td>\n",
       "      <td>192,246</td>\n",
       "      <td>193,686</td>\n",
       "      <td>0.99</td>\n",
       "    </tr>\n",
       "    <tr>\n",
       "      <th>9</th>\n",
       "      <td>경기도  (4100000000)</td>\n",
       "      <td>13,626,339</td>\n",
       "      <td>5,969,573</td>\n",
       "      <td>2.28</td>\n",
       "      <td>6,855,626</td>\n",
       "      <td>6,770,713</td>\n",
       "      <td>1.01</td>\n",
       "    </tr>\n",
       "    <tr>\n",
       "      <th>10</th>\n",
       "      <td>강원특별자치도  (5100000000)</td>\n",
       "      <td>1,530,712</td>\n",
       "      <td>760,903</td>\n",
       "      <td>2.01</td>\n",
       "      <td>770,130</td>\n",
       "      <td>760,582</td>\n",
       "      <td>1.01</td>\n",
       "    </tr>\n",
       "    <tr>\n",
       "      <th>11</th>\n",
       "      <td>충청북도  (4300000000)</td>\n",
       "      <td>1,594,326</td>\n",
       "      <td>779,770</td>\n",
       "      <td>2.04</td>\n",
       "      <td>810,835</td>\n",
       "      <td>783,491</td>\n",
       "      <td>1.03</td>\n",
       "    </tr>\n",
       "    <tr>\n",
       "      <th>12</th>\n",
       "      <td>충청남도  (4400000000)</td>\n",
       "      <td>2,127,630</td>\n",
       "      <td>1,032,336</td>\n",
       "      <td>2.06</td>\n",
       "      <td>1,089,884</td>\n",
       "      <td>1,037,746</td>\n",
       "      <td>1.05</td>\n",
       "    </tr>\n",
       "    <tr>\n",
       "      <th>13</th>\n",
       "      <td>전라북도  (4500000000)</td>\n",
       "      <td>1,758,661</td>\n",
       "      <td>861,647</td>\n",
       "      <td>2.04</td>\n",
       "      <td>875,353</td>\n",
       "      <td>883,308</td>\n",
       "      <td>0.99</td>\n",
       "    </tr>\n",
       "    <tr>\n",
       "      <th>14</th>\n",
       "      <td>전라남도  (4600000000)</td>\n",
       "      <td>1,807,295</td>\n",
       "      <td>912,090</td>\n",
       "      <td>1.98</td>\n",
       "      <td>910,810</td>\n",
       "      <td>896,485</td>\n",
       "      <td>1.02</td>\n",
       "    </tr>\n",
       "    <tr>\n",
       "      <th>15</th>\n",
       "      <td>경상북도  (4700000000)</td>\n",
       "      <td>2,559,924</td>\n",
       "      <td>1,282,575</td>\n",
       "      <td>2.00</td>\n",
       "      <td>1,292,868</td>\n",
       "      <td>1,267,056</td>\n",
       "      <td>1.02</td>\n",
       "    </tr>\n",
       "    <tr>\n",
       "      <th>16</th>\n",
       "      <td>경상남도  (4800000000)</td>\n",
       "      <td>3,257,009</td>\n",
       "      <td>1,524,861</td>\n",
       "      <td>2.14</td>\n",
       "      <td>1,639,932</td>\n",
       "      <td>1,617,077</td>\n",
       "      <td>1.01</td>\n",
       "    </tr>\n",
       "    <tr>\n",
       "      <th>17</th>\n",
       "      <td>제주특별자치도  (5000000000)</td>\n",
       "      <td>676,317</td>\n",
       "      <td>313,265</td>\n",
       "      <td>2.16</td>\n",
       "      <td>338,514</td>\n",
       "      <td>337,803</td>\n",
       "      <td>1.00</td>\n",
       "    </tr>\n",
       "  </tbody>\n",
       "</table>\n",
       "</div>"
      ],
      "text/plain": [
       "                     행정구역 2023년09월_총인구수 2023년09월_세대수  2023년09월_세대당 인구  \\\n",
       "0        전국  (1000000000)    51,370,001   23,900,917             2.15   \n",
       "1     서울특별시  (1100000000)     9,407,540    4,475,726             2.10   \n",
       "2     부산광역시  (2600000000)     3,300,836    1,565,115             2.11   \n",
       "3     대구광역시  (2700000000)     2,377,801    1,092,536             2.18   \n",
       "4     인천광역시  (2800000000)     2,987,918    1,344,029             2.22   \n",
       "5     광주광역시  (2900000000)     1,422,999      656,061             2.17   \n",
       "6     대전광역시  (3000000000)     1,444,595      680,653             2.12   \n",
       "7     울산광역시  (3100000000)     1,104,167      489,298             2.26   \n",
       "8   세종특별자치시  (3600000000)       385,932      160,479             2.40   \n",
       "9       경기도  (4100000000)    13,626,339    5,969,573             2.28   \n",
       "10  강원특별자치도  (5100000000)     1,530,712      760,903             2.01   \n",
       "11     충청북도  (4300000000)     1,594,326      779,770             2.04   \n",
       "12     충청남도  (4400000000)     2,127,630    1,032,336             2.06   \n",
       "13     전라북도  (4500000000)     1,758,661      861,647             2.04   \n",
       "14     전라남도  (4600000000)     1,807,295      912,090             1.98   \n",
       "15     경상북도  (4700000000)     2,559,924    1,282,575             2.00   \n",
       "16     경상남도  (4800000000)     3,257,009    1,524,861             2.14   \n",
       "17  제주특별자치도  (5000000000)       676,317      313,265             2.16   \n",
       "\n",
       "   2023년09월_남자 인구수 2023년09월_여자 인구수  2023년09월_남여 비율  \n",
       "0       25,592,335      25,777,666            0.99  \n",
       "1        4,552,501       4,855,039            0.94  \n",
       "2        1,609,650       1,691,186            0.95  \n",
       "3        1,168,679       1,209,122            0.97  \n",
       "4        1,494,725       1,493,193            1.00  \n",
       "5          702,748         720,251            0.98  \n",
       "6          720,520         724,075            1.00  \n",
       "7          567,314         536,853            1.06  \n",
       "8          192,246         193,686            0.99  \n",
       "9        6,855,626       6,770,713            1.01  \n",
       "10         770,130         760,582            1.01  \n",
       "11         810,835         783,491            1.03  \n",
       "12       1,089,884       1,037,746            1.05  \n",
       "13         875,353         883,308            0.99  \n",
       "14         910,810         896,485            1.02  \n",
       "15       1,292,868       1,267,056            1.02  \n",
       "16       1,639,932       1,617,077            1.01  \n",
       "17         338,514         337,803            1.00  "
      ]
     },
     "execution_count": 94,
     "metadata": {},
     "output_type": "execute_result"
    }
   ],
   "source": [
    "df_pop202309 = pd.read_csv('population_202309.csv',encoding='EUC-KR')\n",
    "df_pop202309"
   ]
  },
  {
   "cell_type": "code",
   "execution_count": null,
   "metadata": {},
   "outputs": [],
   "source": []
  },
  {
   "cell_type": "code",
   "execution_count": null,
   "metadata": {},
   "outputs": [],
   "source": []
  }
 ],
 "metadata": {
  "kernelspec": {
   "display_name": "base",
   "language": "python",
   "name": "python3"
  },
  "language_info": {
   "codemirror_mode": {
    "name": "ipython",
    "version": 3
   },
   "file_extension": ".py",
   "mimetype": "text/x-python",
   "name": "python",
   "nbconvert_exporter": "python",
   "pygments_lexer": "ipython3",
   "version": "3.9.18"
  }
 },
 "nbformat": 4,
 "nbformat_minor": 2
}
