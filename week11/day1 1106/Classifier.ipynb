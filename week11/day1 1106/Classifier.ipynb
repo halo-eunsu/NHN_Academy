{
 "cells": [
  {
   "cell_type": "code",
   "execution_count": 1,
   "metadata": {},
   "outputs": [],
   "source": [
    "from sklearn.svm import SVC"
   ]
  },
  {
   "cell_type": "code",
   "execution_count": 2,
   "metadata": {},
   "outputs": [
    {
     "ename": "NameError",
     "evalue": "name 'X_train' is not defined",
     "output_type": "error",
     "traceback": [
      "\u001b[0;31m---------------------------------------------------------------------------\u001b[0m",
      "\u001b[0;31mNameError\u001b[0m                                 Traceback (most recent call last)",
      "\u001b[1;32m/home/jeongeunsu/문서/NHN_git_test/NHN_Academy/week 11/day1 1106/Classifier.ipynb 셀 2\u001b[0m line \u001b[0;36m2\n\u001b[1;32m      <a href='vscode-notebook-cell:/home/jeongeunsu/%EB%AC%B8%EC%84%9C/NHN_git_test/NHN_Academy/week%2011/day1%201106/Classifier.ipynb#W1sZmlsZQ%3D%3D?line=0'>1</a>\u001b[0m svm_clf \u001b[39m=\u001b[39m SVC(random_state\u001b[39m=\u001b[39m\u001b[39m42\u001b[39m)\n\u001b[0;32m----> <a href='vscode-notebook-cell:/home/jeongeunsu/%EB%AC%B8%EC%84%9C/NHN_git_test/NHN_Academy/week%2011/day1%201106/Classifier.ipynb#W1sZmlsZQ%3D%3D?line=1'>2</a>\u001b[0m svm_clf\u001b[39m.\u001b[39mfit(X_train[:\u001b[39m2000\u001b[39m], y_train[:\u001b[39m2000\u001b[39m])\n",
      "\u001b[0;31mNameError\u001b[0m: name 'X_train' is not defined"
     ]
    }
   ],
   "source": [
    "svm_clf = SVC(random_state=42)\n",
    "svm_clf.fit(X_train[:2000], y_train[:2000]) # y_train, not y_train_5"
   ]
  },
  {
   "cell_type": "code",
   "execution_count": 3,
   "metadata": {},
   "outputs": [
    {
     "ename": "NameError",
     "evalue": "name 'X' is not defined",
     "output_type": "error",
     "traceback": [
      "\u001b[0;31m---------------------------------------------------------------------------\u001b[0m",
      "\u001b[0;31mNameError\u001b[0m                                 Traceback (most recent call last)",
      "\u001b[1;32m/home/jeongeunsu/문서/NHN_git_test/NHN_Academy/week 11/day1 1106/Classifier.ipynb 셀 3\u001b[0m line \u001b[0;36m1\n\u001b[0;32m----> <a href='vscode-notebook-cell:/home/jeongeunsu/%EB%AC%B8%EC%84%9C/NHN_git_test/NHN_Academy/week%2011/day1%201106/Classifier.ipynb#W2sZmlsZQ%3D%3D?line=0'>1</a>\u001b[0m X_train, X_test, y_train, y_test \u001b[39m=\u001b[39m X[:\u001b[39m60000\u001b[39m], X[\u001b[39m60000\u001b[39m:], y[:\u001b[39m60000\u001b[39m], y[\u001b[39m60000\u001b[39m:]\n",
      "\u001b[0;31mNameError\u001b[0m: name 'X' is not defined"
     ]
    }
   ],
   "source": [
    "X_train, X_test, y_train, y_test = X[:60000], X[60000:], y[:60000], y[60000:]"
   ]
  },
  {
   "cell_type": "code",
   "execution_count": null,
   "metadata": {},
   "outputs": [],
   "source": []
  }
 ],
 "metadata": {
  "kernelspec": {
   "display_name": "base",
   "language": "python",
   "name": "python3"
  },
  "language_info": {
   "codemirror_mode": {
    "name": "ipython",
    "version": 3
   },
   "file_extension": ".py",
   "mimetype": "text/x-python",
   "name": "python",
   "nbconvert_exporter": "python",
   "pygments_lexer": "ipython3",
   "version": "3.9.18"
  }
 },
 "nbformat": 4,
 "nbformat_minor": 2
}
