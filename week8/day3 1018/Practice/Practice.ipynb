{
 "cells": [
  {
   "cell_type": "code",
   "execution_count": 4,
   "metadata": {
    "vscode": {
     "languageId": "java"
    }
   },
   "outputs": [
    {
     "name": "stdout",
     "output_type": "stream",
     "text": [
      "2 x 1 = 2\n",
      "2 x 2 = 4\n",
      "2 x 3 = 6\n",
      "2 x 4 = 8\n",
      "2 x 5 = 10\n",
      "2 x 6 = 12\n",
      "2 x 7 = 14\n",
      "2 x 8 = 16\n",
      "2 x 9 = 18\n",
      "\n",
      "3 x 1 = 3\n",
      "3 x 2 = 6\n",
      "3 x 3 = 9\n",
      "3 x 4 = 12\n",
      "3 x 5 = 15\n",
      "3 x 6 = 18\n",
      "3 x 7 = 21\n",
      "3 x 8 = 24\n",
      "3 x 9 = 27\n",
      "\n",
      "4 x 1 = 4\n",
      "4 x 2 = 8\n",
      "4 x 3 = 12\n",
      "4 x 4 = 16\n",
      "4 x 5 = 20\n",
      "4 x 6 = 24\n",
      "4 x 7 = 28\n",
      "4 x 8 = 32\n",
      "4 x 9 = 36\n",
      "\n",
      "5 x 1 = 5\n",
      "5 x 2 = 10\n",
      "5 x 3 = 15\n",
      "5 x 4 = 20\n",
      "5 x 5 = 25\n",
      "5 x 6 = 30\n",
      "5 x 7 = 35\n",
      "5 x 8 = 40\n",
      "5 x 9 = 45\n",
      "\n",
      "6 x 1 = 6\n",
      "6 x 2 = 12\n",
      "6 x 3 = 18\n",
      "6 x 4 = 24\n",
      "6 x 5 = 30\n",
      "6 x 6 = 36\n",
      "6 x 7 = 42\n",
      "6 x 8 = 48\n",
      "6 x 9 = 54\n",
      "\n",
      "7 x 1 = 7\n",
      "7 x 2 = 14\n",
      "7 x 3 = 21\n",
      "7 x 4 = 28\n",
      "7 x 5 = 35\n",
      "7 x 6 = 42\n",
      "7 x 7 = 49\n",
      "7 x 8 = 56\n",
      "7 x 9 = 63\n",
      "\n"
     ]
    }
   ],
   "source": [
    "\n",
    "int j = 7 ;//단 수\n",
    "for(int i = 2; i<=j ;i++){\n",
    "    \n",
    "    for(int k = 1; k<= 9 ; k++){\n",
    "\n",
    "        System.out.println(i + \" x \" + k + \" = \" + i*k);\n",
    "\n",
    "    }\n",
    "    System.out.println();\n",
    "}"
   ]
  },
  {
   "cell_type": "code",
   "execution_count": 6,
   "metadata": {
    "vscode": {
     "languageId": "java"
    }
   },
   "outputs": [],
   "source": [
    "public class BinaryOp { \n",
    "    \n",
    "    public int add(int a, int b){\n",
    "        return a + b;\n",
    "    }\n",
    "}\n",
    "\n",
    "public class Algorithm{\n",
    "\n",
    "    public int exam(BinaryOp a, int b, int c){\n",
    "        return a.add(b, c);\n",
    "    }\n",
    "}"
   ]
  },
  {
   "cell_type": "code",
   "execution_count": 7,
   "metadata": {
    "vscode": {
     "languageId": "java"
    }
   },
   "outputs": [],
   "source": [
    "public class Adder { \n",
    "    \n",
    "    public int add(int a, int b){\n",
    "        return a + b;\n",
    "    }\n",
    "}\n",
    "\n",
    "\n",
    "public class Multiply { \n",
    "    \n",
    "    public int mult(int a, int b){\n",
    "        return a * b;\n",
    "    }\n",
    "}\n",
    "\n",
    "\n",
    "\n",
    "public class Algorithm{\n",
    "\n",
    "    public int exam(BinaryOp a, int b, int c){\n",
    "        return a.add(b, c);\n",
    "    }\n",
    "}"
   ]
  },
  {
   "cell_type": "code",
   "execution_count": 14,
   "metadata": {
    "vscode": {
     "languageId": "java"
    }
   },
   "outputs": [],
   "source": [
    "interface BinaryOp{\n",
    "    int bind(int a, int b);\n",
    "}\n",
    "\n",
    "class Adder implements BinaryOp{ \n",
    "    \n",
    "    public int bind(int a, int b){\n",
    "        return a + b;\n",
    "    }\n",
    "}\n",
    "\n",
    "\n",
    "class Multiply implements BinaryOp{ \n",
    "    \n",
    "    public int bind(int a, int b){\n",
    "        return a * b;\n",
    "    }\n",
    "}\n",
    "\n",
    "\n",
    "public class Algorithm {\n",
    "\n",
    "    public int exam(BinaryOp a, int b, int c){\n",
    "        return a.bind(b, c);\n",
    "    }\n",
    "\n",
    "    public static void main(){\n",
    "        Algorithm a = new Algorithm();\n",
    "     \n",
    "        int result = a.exam((x,y) -> x * y, 1, 1);\n",
    "        System.out.println(result);\n",
    "    }\n",
    "}\n"
   ]
  },
  {
   "cell_type": "code",
   "execution_count": 18,
   "metadata": {
    "vscode": {
     "languageId": "java"
    }
   },
   "outputs": [
    {
     "name": "stdout",
     "output_type": "stream",
     "text": [
      "2\n"
     ]
    }
   ],
   "source": [
    "     Algorithm a = new Algorithm();\n",
    "     \n",
    "        int result = a.exam((x,y) -> x + y, 1, 1);\n",
    "        System.out.println(result);"
   ]
  },
  {
   "cell_type": "code",
   "execution_count": 19,
   "metadata": {
    "vscode": {
     "languageId": "java"
    }
   },
   "outputs": [
    {
     "name": "stdout",
     "output_type": "stream",
     "text": [
      "1\n"
     ]
    }
   ],
   "source": [
    "Algorithm.main()"
   ]
  }
 ],
 "metadata": {
  "kernelspec": {
   "display_name": "Java",
   "language": "java",
   "name": "java"
  },
  "language_info": {
   "codemirror_mode": "java",
   "file_extension": ".jshell",
   "mimetype": "text/x-java-source",
   "name": "Java",
   "pygments_lexer": "java",
   "version": "11.0.20.1+1-post-Ubuntu-0ubuntu120.04"
  }
 },
 "nbformat": 4,
 "nbformat_minor": 2
}
