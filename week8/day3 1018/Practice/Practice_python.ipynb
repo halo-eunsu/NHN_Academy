{
 "cells": [
  {
   "cell_type": "code",
   "execution_count": 1,
   "metadata": {},
   "outputs": [],
   "source": [
    "x = 10\n",
    "\n",
    "def isPrime(number):\n",
    "    for i in range(2, number):\n",
    "        if(number % i == 0):\n",
    "            return False\n",
    "        \n",
    "    return True\n",
    "\n",
    "\n",
    "def getPrimesInRange(start, end) : \n",
    "    return True\n",
    "\n",
    "\n",
    "\n"
   ]
  },
  {
   "cell_type": "code",
   "execution_count": 2,
   "metadata": {},
   "outputs": [
    {
     "name": "stdout",
     "output_type": "stream",
     "text": [
      "2\n",
      "3\n",
      "4\n",
      "5\n",
      "6\n",
      "7\n",
      "8\n",
      "9\n"
     ]
    }
   ],
   "source": [
    "x = 10\n",
    "\n",
    "for i in range(2, x) : \n",
    "    if x % 1 == 0:\n",
    "        print(i)\n",
    "        x = x//i\n"
   ]
  },
  {
   "cell_type": "code",
   "execution_count": 20,
   "metadata": {},
   "outputs": [
    {
     "name": "stdout",
     "output_type": "stream",
     "text": [
      "2\n",
      "5\n",
      "10\n"
     ]
    }
   ],
   "source": [
    "x = 10\n",
    "\n",
    "def primeFactors(number) : \n",
    "    x = number\n",
    "    for i in range(2, x) : \n",
    "        if x % i == 0:\n",
    "            print(i)    \n",
    "            x = x//i\n",
    "\n",
    "primeFactors(100)        "
   ]
  },
  {
   "cell_type": "code",
   "execution_count": 24,
   "metadata": {},
   "outputs": [
    {
     "data": {
      "text/plain": [
       "()"
      ]
     },
     "execution_count": 24,
     "metadata": {},
     "output_type": "execute_result"
    }
   ],
   "source": [
    "x = 10\n",
    "\n",
    "def primeFactors(number) : \n",
    "    list = []\n",
    "    x = number\n",
    "    \n",
    "    for i in range(2, x) : \n",
    "        if number % i == 0:\n",
    "            # list[len(list):] = [i]\n",
    "            list.append(i)\n",
    "            number = number // i\n",
    "\n",
    "    return tuple(list)\n",
    "\n",
    "primeFactors(887)        "
   ]
  },
  {
   "cell_type": "code",
   "execution_count": 25,
   "metadata": {},
   "outputs": [
    {
     "name": "stdout",
     "output_type": "stream",
     "text": [
      "It's exam\n"
     ]
    },
    {
     "data": {
      "text/plain": [
       "3"
      ]
     },
     "execution_count": 25,
     "metadata": {},
     "output_type": "execute_result"
    }
   ],
   "source": [
    "def exam(a, b):\n",
    "    a()\n",
    "    b += 1\n",
    "    return b\n",
    "\n",
    "\n",
    "def exam2():\n",
    "    print(\"It's exam\")\n",
    "    \n",
    "exam(exam2, 2)"
   ]
  },
  {
   "cell_type": "code",
   "execution_count": 33,
   "metadata": {},
   "outputs": [
    {
     "data": {
      "text/plain": [
       "2"
      ]
     },
     "execution_count": 33,
     "metadata": {},
     "output_type": "execute_result"
    }
   ],
   "source": [
    "def exam(a,b,c):\n",
    "    return a(b, c)\n",
    "\n",
    "def add(a, b):\n",
    "    return a + b\n",
    "\n",
    "\n",
    "exam(add, 1, 2)\n",
    "\n",
    "def mult(a, b):\n",
    "    return a * b\n",
    "\n",
    "\n",
    "exam(mult, 1, 2)\n",
    "\n",
    "\n",
    "\n",
    "a = lambda a, b: a + b\n",
    "exam(lambda a, b: a * b, 1, 2)\n",
    "\n"
   ]
  },
  {
   "cell_type": "code",
   "execution_count": null,
   "metadata": {},
   "outputs": [],
   "source": []
  },
  {
   "cell_type": "code",
   "execution_count": null,
   "metadata": {},
   "outputs": [],
   "source": []
  }
 ],
 "metadata": {
  "kernelspec": {
   "display_name": "base",
   "language": "python",
   "name": "python3"
  },
  "language_info": {
   "codemirror_mode": {
    "name": "ipython",
    "version": 3
   },
   "file_extension": ".py",
   "mimetype": "text/x-python",
   "name": "python",
   "nbconvert_exporter": "python",
   "pygments_lexer": "ipython3",
   "version": "3.9.18"
  }
 },
 "nbformat": 4,
 "nbformat_minor": 2
}
