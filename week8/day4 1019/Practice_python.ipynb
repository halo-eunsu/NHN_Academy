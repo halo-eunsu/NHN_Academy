{
 "cells": [
  {
   "cell_type": "code",
   "execution_count": null,
   "metadata": {},
   "outputs": [],
   "source": [
    "def mult_iter(a, b):\n",
    "    result = 0\n",
    "    \n",
    "    while b > 0:\n",
    "        result += a\n",
    "        b -= 1\n",
    "        \n",
    "    return result\n",
    "\n",
    "mult_iter(2, 3)"
   ]
  },
  {
   "cell_type": "code",
   "execution_count": null,
   "metadata": {},
   "outputs": [],
   "source": [
    "def mult(a, b):\n",
    "    if b == 1:      # base case\n",
    "        return a\n",
    "    else:\n",
    "        return a + mult(a, b -1 ) #recursive step\n",
    "    \n",
    "mult(2, 3)\n",
    "\n",
    "%debug (mult)"
   ]
  },
  {
   "cell_type": "code",
   "execution_count": null,
   "metadata": {},
   "outputs": [],
   "source": [
    "def changeLetter(target) : \n",
    "    result = ''\n",
    "    for s in target:\n",
    "        if ord(s) in range(97, 122):\n",
    "            result = result + (chr(ord(s) - 32))\n",
    "        elif ord(s) in range(65, 90):\n",
    "            result = result + (chr(ord(s) + 32))\n",
    "        else:\n",
    "            result = \"can't convert\"\n",
    "    return result\n",
    "\n",
    "            \n",
    "            \n",
    "    "
   ]
  },
  {
   "cell_type": "code",
   "execution_count": null,
   "metadata": {},
   "outputs": [],
   "source": [
    "changeLetter('happydayt')"
   ]
  },
  {
   "cell_type": "code",
   "execution_count": null,
   "metadata": {},
   "outputs": [],
   "source": [
    "def changeLetter(target, result='', loc=0):\n",
    "    if(len(result) == len(target)):\n",
    "        return result\n",
    "    else:\n",
    "        if (ord(target[loc]) in range(97, 122)):\n",
    "            result = result + chr(ord(target[loc]) - 32)\n",
    "        else:\n",
    "            result = result + chr(ord(target[loc]) + 32)\n",
    "        return changeLetter(target, result, loc +1)       \n",
    "            \n",
    "            \n"
   ]
  },
  {
   "cell_type": "code",
   "execution_count": null,
   "metadata": {},
   "outputs": [],
   "source": [
    "\n",
    "s = 'aBcDe'\n",
    "answer = 'AbCdE'\n",
    "\n",
    "\n",
    "if(answer == changeLetter(s)):\n",
    "    print(\"well done!\")\n",
    "else:\n",
    "    print(\"sorry......\")\n"
   ]
  },
  {
   "cell_type": "code",
   "execution_count": null,
   "metadata": {},
   "outputs": [],
   "source": [
    "def multiplication(times, number = 1):\n",
    "    if( number > 9):\n",
    "        return \n",
    "    \n",
    "    else:\n",
    "        print(times, number, times * number)\n",
    "        multiplication(times, number +1)\n",
    "        \n",
    "multiplication(3)        "
   ]
  },
  {
   "cell_type": "code",
   "execution_count": null,
   "metadata": {},
   "outputs": [],
   "source": [
    "def multiplicationTable(tableNo = 2, limit = 9):\n",
    "    if(tableNo > limit):\n",
    "        return \n",
    "    else:\n",
    "        print()\n",
    "        multiplication(tableNo)\n",
    "        multiplicationTable(tableNo+1, limit)\n",
    "        \n",
    "    "
   ]
  },
  {
   "cell_type": "code",
   "execution_count": null,
   "metadata": {},
   "outputs": [],
   "source": [
    "multiplicationTable(5)"
   ]
  },
  {
   "cell_type": "code",
   "execution_count": null,
   "metadata": {},
   "outputs": [],
   "source": [
    "multiplicationTable(tableNo=80, limit= 190)"
   ]
  },
  {
   "cell_type": "code",
   "execution_count": 1,
   "metadata": {},
   "outputs": [
    {
     "ename": "TypeError",
     "evalue": "unsupported operand type(s) for +: 'NoneType' and 'int'",
     "output_type": "error",
     "traceback": [
      "\u001b[0;31m---------------------------------------------------------------------------\u001b[0m",
      "\u001b[0;31mTypeError\u001b[0m                                 Traceback (most recent call last)",
      "\u001b[1;32m/home/jeongeunsu/문서/NHN_git_test/NHN_Academy/week8/day4 1019/Practice_python.ipynb 셀 11\u001b[0m line \u001b[0;36m8\n\u001b[1;32m      <a href='vscode-notebook-cell:/home/jeongeunsu/%EB%AC%B8%EC%84%9C/NHN_git_test/NHN_Academy/week8/day4%201019/Practice_python.ipynb#X13sZmlsZQ%3D%3D?line=4'>5</a>\u001b[0m     \u001b[39melse\u001b[39;00m : \n\u001b[1;32m      <a href='vscode-notebook-cell:/home/jeongeunsu/%EB%AC%B8%EC%84%9C/NHN_git_test/NHN_Academy/week8/day4%201019/Practice_python.ipynb#X13sZmlsZQ%3D%3D?line=5'>6</a>\u001b[0m         ref(limit \u001b[39m-\u001b[39m\u001b[39m1\u001b[39m) \u001b[39m+\u001b[39m ref(limit \u001b[39m-\u001b[39m\u001b[39m2\u001b[39m)\n\u001b[0;32m----> <a href='vscode-notebook-cell:/home/jeongeunsu/%EB%AC%B8%EC%84%9C/NHN_git_test/NHN_Academy/week8/day4%201019/Practice_python.ipynb#X13sZmlsZQ%3D%3D?line=7'>8</a>\u001b[0m ref(\u001b[39m10\u001b[39;49m)\n",
      "\u001b[1;32m/home/jeongeunsu/문서/NHN_git_test/NHN_Academy/week8/day4 1019/Practice_python.ipynb 셀 11\u001b[0m line \u001b[0;36m6\n\u001b[1;32m      <a href='vscode-notebook-cell:/home/jeongeunsu/%EB%AC%B8%EC%84%9C/NHN_git_test/NHN_Academy/week8/day4%201019/Practice_python.ipynb#X13sZmlsZQ%3D%3D?line=3'>4</a>\u001b[0m     \u001b[39mreturn\u001b[39;00m  \u001b[39m1\u001b[39m     \n\u001b[1;32m      <a href='vscode-notebook-cell:/home/jeongeunsu/%EB%AC%B8%EC%84%9C/NHN_git_test/NHN_Academy/week8/day4%201019/Practice_python.ipynb#X13sZmlsZQ%3D%3D?line=4'>5</a>\u001b[0m \u001b[39melse\u001b[39;00m : \n\u001b[0;32m----> <a href='vscode-notebook-cell:/home/jeongeunsu/%EB%AC%B8%EC%84%9C/NHN_git_test/NHN_Academy/week8/day4%201019/Practice_python.ipynb#X13sZmlsZQ%3D%3D?line=5'>6</a>\u001b[0m     ref(limit \u001b[39m-\u001b[39;49m\u001b[39m1\u001b[39;49m) \u001b[39m+\u001b[39m ref(limit \u001b[39m-\u001b[39m\u001b[39m2\u001b[39m)\n",
      "\u001b[1;32m/home/jeongeunsu/문서/NHN_git_test/NHN_Academy/week8/day4 1019/Practice_python.ipynb 셀 11\u001b[0m line \u001b[0;36m6\n\u001b[1;32m      <a href='vscode-notebook-cell:/home/jeongeunsu/%EB%AC%B8%EC%84%9C/NHN_git_test/NHN_Academy/week8/day4%201019/Practice_python.ipynb#X13sZmlsZQ%3D%3D?line=3'>4</a>\u001b[0m     \u001b[39mreturn\u001b[39;00m  \u001b[39m1\u001b[39m     \n\u001b[1;32m      <a href='vscode-notebook-cell:/home/jeongeunsu/%EB%AC%B8%EC%84%9C/NHN_git_test/NHN_Academy/week8/day4%201019/Practice_python.ipynb#X13sZmlsZQ%3D%3D?line=4'>5</a>\u001b[0m \u001b[39melse\u001b[39;00m : \n\u001b[0;32m----> <a href='vscode-notebook-cell:/home/jeongeunsu/%EB%AC%B8%EC%84%9C/NHN_git_test/NHN_Academy/week8/day4%201019/Practice_python.ipynb#X13sZmlsZQ%3D%3D?line=5'>6</a>\u001b[0m     ref(limit \u001b[39m-\u001b[39;49m\u001b[39m1\u001b[39;49m) \u001b[39m+\u001b[39m ref(limit \u001b[39m-\u001b[39m\u001b[39m2\u001b[39m)\n",
      "    \u001b[0;31m[... skipping similar frames: ref at line 6 (5 times)]\u001b[0m\n",
      "\u001b[1;32m/home/jeongeunsu/문서/NHN_git_test/NHN_Academy/week8/day4 1019/Practice_python.ipynb 셀 11\u001b[0m line \u001b[0;36m6\n\u001b[1;32m      <a href='vscode-notebook-cell:/home/jeongeunsu/%EB%AC%B8%EC%84%9C/NHN_git_test/NHN_Academy/week8/day4%201019/Practice_python.ipynb#X13sZmlsZQ%3D%3D?line=3'>4</a>\u001b[0m     \u001b[39mreturn\u001b[39;00m  \u001b[39m1\u001b[39m     \n\u001b[1;32m      <a href='vscode-notebook-cell:/home/jeongeunsu/%EB%AC%B8%EC%84%9C/NHN_git_test/NHN_Academy/week8/day4%201019/Practice_python.ipynb#X13sZmlsZQ%3D%3D?line=4'>5</a>\u001b[0m \u001b[39melse\u001b[39;00m : \n\u001b[0;32m----> <a href='vscode-notebook-cell:/home/jeongeunsu/%EB%AC%B8%EC%84%9C/NHN_git_test/NHN_Academy/week8/day4%201019/Practice_python.ipynb#X13sZmlsZQ%3D%3D?line=5'>6</a>\u001b[0m     ref(limit \u001b[39m-\u001b[39;49m\u001b[39m1\u001b[39;49m) \u001b[39m+\u001b[39;49m ref(limit \u001b[39m-\u001b[39;49m\u001b[39m2\u001b[39;49m)\n",
      "\u001b[0;31mTypeError\u001b[0m: unsupported operand type(s) for +: 'NoneType' and 'int'"
     ]
    }
   ],
   "source": [
    "def ref(limit):\n",
    "    \n",
    "    if limit == 0 or limit == 1 :\n",
    "        return  1     \n",
    "    else : \n",
    "        ref(limit -1) + ref(limit -2)\n",
    "    \n",
    "ref(10)\n"
   ]
  },
  {
   "cell_type": "code",
   "execution_count": 10,
   "metadata": {},
   "outputs": [
    {
     "name": "stdout",
     "output_type": "stream",
     "text": [
      "F(38) = 39088169\n"
     ]
    }
   ],
   "source": [
    "def fibonacci(n):\n",
    "    if n <= 0:\n",
    "        return 0\n",
    "    elif n == 1:\n",
    "        return 1\n",
    "    else:\n",
    "        return fibonacci(n-1) + fibonacci(n-2)\n",
    "\n",
    "\n",
    "n = 38\n",
    " \n",
    "result = fibonacci(n)\n",
    "print(f\"F({n}) = {result}\")\n"
   ]
  },
  {
   "cell_type": "code",
   "execution_count": null,
   "metadata": {},
   "outputs": [],
   "source": []
  },
  {
   "cell_type": "code",
   "execution_count": null,
   "metadata": {},
   "outputs": [],
   "source": [
    "def fib_efficient(n, d):\n",
    "    if n in d:\n",
    "        return d[n]\n",
    "    \n",
    "    \n",
    "    \n",
    "    print(fib_efficient) \n",
    "    \n",
    "        "
   ]
  }
 ],
 "metadata": {
  "kernelspec": {
   "display_name": "base",
   "language": "python",
   "name": "python3"
  },
  "language_info": {
   "codemirror_mode": {
    "name": "ipython",
    "version": 3
   },
   "file_extension": ".py",
   "mimetype": "text/x-python",
   "name": "python",
   "nbconvert_exporter": "python",
   "pygments_lexer": "ipython3",
   "version": "3.9.18"
  }
 },
 "nbformat": 4,
 "nbformat_minor": 2
}
