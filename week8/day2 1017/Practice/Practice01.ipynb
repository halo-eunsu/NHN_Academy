{
 "cells": [
  {
   "cell_type": "code",
   "execution_count": 1,
   "metadata": {
    "vscode": {
     "languageId": "java"
    }
   },
   "outputs": [
    {
     "name": "stdout",
     "output_type": "stream",
     "text": [
      "1.0\n"
     ]
    }
   ],
   "source": [
    "double a=1.0;\n",
    "int b = 1;\n",
    "\n",
    "\n",
    "if(a == b){System.out.println(a);}"
   ]
  },
  {
   "cell_type": "code",
   "execution_count": 7,
   "metadata": {
    "vscode": {
     "languageId": "java"
    }
   },
   "outputs": [
    {
     "name": "stdout",
     "output_type": "stream",
     "text": [
      "1.0\n"
     ]
    }
   ],
   "source": [
    "b = a;\n",
    "a = b;\n",
    "//System.out.println(b);\n",
    "System.out.println(a);"
   ]
  },
  {
   "cell_type": "code",
   "execution_count": null,
   "metadata": {
    "vscode": {
     "languageId": "java"
    }
   },
   "outputs": [],
   "source": [
    "if(true /* condition */)\n",
    "{\n",
    "    boolean Expression\n",
    "\n",
    "}\n",
    "switch(/*value*/)\n"
   ]
  },
  {
   "cell_type": "code",
   "execution_count": 6,
   "metadata": {
    "vscode": {
     "languageId": "java"
    }
   },
   "outputs": [
    {
     "name": "stdout",
     "output_type": "stream",
     "text": [
      "AbCdeF\n",
      "aBcDEf\n"
     ]
    }
   ],
   "source": [
    "String problem = \"AbCdeF\";\n",
    "String result = \"\";\n",
    "char[] problemToChar = problem.toCharArray();\n",
    "\n",
    "for(int i = 0; i< problem.toCharArray().length; i++){\n",
    "    \n",
    "    int a = problem.charAt(i);\n",
    "    if(a >= 97 && a<= 122){\n",
    "        problemToChar[i] = (char)(a - 32);\n",
    "    }\n",
    "    else{\n",
    "        problemToChar[i] = (char)(a + 32);\n",
    "    }\n",
    "\n",
    "    result += problemToChar[i];\n",
    "\n",
    "}\n",
    "System.out.println(problem);\n",
    "System.out.println(result);\n"
   ]
  },
  {
   "cell_type": "code",
   "execution_count": 14,
   "metadata": {
    "vscode": {
     "languageId": "java"
    }
   },
   "outputs": [
    {
     "name": "stdout",
     "output_type": "stream",
     "text": [
      "2\n",
      "3\n",
      "5\n",
      "7\n",
      "11\n",
      "13\n",
      "17\n",
      "19\n",
      "23\n",
      "29\n",
      "31\n",
      "37\n",
      "41\n",
      "43\n",
      "47\n",
      "53\n",
      "59\n",
      "61\n",
      "67\n",
      "71\n",
      "73\n",
      "79\n",
      "83\n",
      "89\n",
      "97\n",
      "101\n",
      "103\n",
      "107\n",
      "109\n",
      "113\n",
      "127\n",
      "131\n",
      "137\n",
      "139\n",
      "149\n",
      "151\n",
      "157\n",
      "163\n",
      "167\n",
      "173\n",
      "179\n",
      "181\n",
      "191\n",
      "193\n",
      "197\n",
      "199\n",
      "211\n",
      "223\n",
      "227\n",
      "229\n",
      "233\n",
      "239\n",
      "241\n",
      "251\n",
      "257\n",
      "263\n",
      "269\n",
      "271\n",
      "277\n",
      "281\n",
      "283\n",
      "293\n",
      "307\n",
      "311\n",
      "313\n",
      "317\n",
      "331\n",
      "337\n",
      "347\n",
      "349\n",
      "353\n",
      "359\n",
      "367\n",
      "373\n",
      "379\n",
      "383\n",
      "389\n",
      "397\n",
      "401\n",
      "409\n",
      "419\n",
      "421\n",
      "431\n",
      "433\n",
      "439\n",
      "443\n",
      "449\n",
      "457\n",
      "461\n",
      "463\n",
      "467\n",
      "479\n",
      "487\n",
      "491\n",
      "499\n",
      "503\n",
      "509\n",
      "521\n",
      "523\n",
      "541\n",
      "547\n",
      "557\n",
      "563\n",
      "569\n",
      "571\n",
      "577\n",
      "587\n",
      "593\n",
      "599\n",
      "601\n",
      "607\n",
      "613\n",
      "617\n",
      "619\n",
      "631\n",
      "641\n",
      "643\n",
      "647\n",
      "653\n",
      "659\n",
      "661\n",
      "673\n",
      "677\n",
      "683\n",
      "691\n",
      "701\n",
      "709\n",
      "719\n",
      "727\n",
      "733\n",
      "739\n",
      "743\n",
      "751\n",
      "757\n",
      "761\n",
      "769\n",
      "773\n",
      "787\n",
      "797\n",
      "809\n",
      "811\n",
      "821\n",
      "823\n",
      "827\n",
      "829\n",
      "839\n",
      "853\n",
      "857\n",
      "859\n",
      "863\n",
      "877\n",
      "881\n",
      "883\n",
      "887\n",
      "907\n",
      "911\n",
      "919\n",
      "929\n",
      "937\n",
      "941\n",
      "947\n",
      "953\n",
      "967\n",
      "971\n",
      "977\n",
      "983\n",
      "991\n",
      "997\n",
      "개수 : 168\n"
     ]
    }
   ],
   "source": [
    "\n",
    "int counter = 0;\n",
    "List<Integer> count = new ArrayList<>();\n",
    "for(int i = 0; i< 1000 ;i++){\n",
    "    if(i ==1){continue;}\n",
    "    if(i ==2){System.out.println(i);\n",
    "    counter = counter + 1;\n",
    "}\n",
    "    boolean nu = true;\n",
    "    if(i%2 == 0){continue;}\n",
    "    for( int j : count){\n",
    "        if(i % j == 0){\n",
    "            nu = false;\n",
    "        }\n",
    "    }\n",
    "    if(nu == true){\n",
    "        counter = counter + 1;\n",
    "        System.out.println(i);\n",
    "        count.add(i);\n",
    "    }\n",
    "}\n",
    "System.out.println(\"개수 : \" + counter);"
   ]
  },
  {
   "cell_type": "code",
   "execution_count": 31,
   "metadata": {
    "vscode": {
     "languageId": "java"
    }
   },
   "outputs": [
    {
     "name": "stdout",
     "output_type": "stream",
     "text": [
      "소인수 분해 결과 : "
     ]
    },
    {
     "name": "stdout",
     "output_type": "stream",
     "text": [
      "2, 5, "
     ]
    }
   ],
   "source": [
    "\n",
    "\n",
    "int countTo = 10;\n",
    "\n",
    "System.out.print(\"소인수 분해 결과 : \");\n",
    "for(int i = 2; i < countTo; i++){\n",
    "    if(countTo % i == 0){\n",
    "        System.out.print(i);\n",
    "        System.out.print(\", \");\n",
    "    }\n",
    "}"
   ]
  }
 ],
 "metadata": {
  "kernelspec": {
   "display_name": "Java",
   "language": "java",
   "name": "java"
  },
  "language_info": {
   "codemirror_mode": "java",
   "file_extension": ".jshell",
   "mimetype": "text/x-java-source",
   "name": "Java",
   "pygments_lexer": "java",
   "version": "11.0.20.1+1-post-Ubuntu-0ubuntu120.04"
  }
 },
 "nbformat": 4,
 "nbformat_minor": 2
}
