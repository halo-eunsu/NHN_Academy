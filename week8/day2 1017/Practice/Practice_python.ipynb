{
 "cells": [
  {
   "cell_type": "code",
   "execution_count": null,
   "metadata": {},
   "outputs": [],
   "source": [
    "\n",
    "drive = True\n",
    "drink = False\n",
    "\n",
    "\n",
    "print(drive and drink)\n"
   ]
  },
  {
   "cell_type": "code",
   "execution_count": null,
   "metadata": {},
   "outputs": [],
   "source": [
    "# /s = 1aBcdef\n",
    "target = \"AbcDeFGHIjkLmnoPQrSTUVwxYz\"\n",
    "result = \"\"\n",
    "\n",
    "\n",
    "for s in target:\n",
    "    if ord(s) >= 97 and ord(s) <= 122:\n",
    "        result = result + chr(ord(s) - 32)\n",
    "    else:\n",
    "        result = result + chr(ord(s) + 32)\n",
    "        \n",
    "print(result)"
   ]
  },
  {
   "cell_type": "code",
   "execution_count": null,
   "metadata": {},
   "outputs": [],
   "source": []
  },
  {
   "cell_type": "code",
   "execution_count": null,
   "metadata": {},
   "outputs": [],
   "source": [
    "#  구구단 출력\n",
    "\n",
    "i = 2\n",
    "while(i <= 9):\n",
    "    s = 1\n",
    "    while(s <= 9):\n",
    "        result = i * s\n",
    "        print (i ,\" * \",s ,\" = \", result)\n",
    "        s = s + 1\n",
    "\n",
    "    print()     \n",
    "    i = i + 1   "
   ]
  },
  {
   "cell_type": "markdown",
   "metadata": {},
   "source": []
  },
  {
   "cell_type": "code",
   "execution_count": null,
   "metadata": {},
   "outputs": [],
   "source": [
    "for i in range(2,9):\n",
    "    for j in range(1,10):\n",
    "        print(i,j,i*j)\n",
    "    print()    "
   ]
  },
  {
   "cell_type": "code",
   "execution_count": null,
   "metadata": {},
   "outputs": [],
   "source": [
    "# 1 ~ 10사이의 소수 구하기\n",
    "\n",
    "\n",
    "for i in range(1,10):\n",
    "    if(i==1): continue\n",
    "    if(i==2): print(i)\n",
    "    if(i%2 == 0) : continue\n",
    "    else :\n",
    "        nu = True \n",
    "        for j in range(2,i-1):\n",
    "            if i % j == 0: nu = False\n",
    "        if nu == True:\n",
    "            print(i)\n",
    "            \n"
   ]
  },
  {
   "cell_type": "code",
   "execution_count": null,
   "metadata": {},
   "outputs": [],
   "source": [
    "x = 4\n",
    "ans = 0\n",
    "\n",
    "while ans ** 2 < x:\n",
    "    ans = ans + 1\n",
    "if ans ** 2 == x:\n",
    "    print(\"it's a prime number\")\n",
    "else:\n",
    "    print(\"not a prime number\")"
   ]
  },
  {
   "cell_type": "code",
   "execution_count": null,
   "metadata": {},
   "outputs": [],
   "source": [
    "# 소인수분해\n",
    "x = 10\n",
    "\n",
    "for i in range(2, x+1):\n",
    "    for j in range(2, i+1):\n",
    "        if(i == j):\n",
    "            print (i)\n",
    "        if(i % j == 0):\n",
    "            break\n",
    "        \n",
    "        \n",
    "        \n",
    "if x % i == 0:\n",
    "    print(i)\n",
    "    x = x // i"
   ]
  },
  {
   "cell_type": "code",
   "execution_count": null,
   "metadata": {},
   "outputs": [],
   "source": [
    "# 완전제곱수\n",
    "\n",
    "\n",
    "\n",
    "n = 998872772\n",
    "\n",
    "\n",
    "\n",
    "for i in range(1,n):\n",
    "    if((i*i) == n):\n",
    "        print(i)\n",
    "        print(n,\" 은(는) 완전제곱수 입니다.\")\n",
    "        break\n",
    "    elif((i*i) > n): \n",
    "        print(n,\" 은(는) 완전제곱수가 아닙니다.\")\n",
    "        break\n",
    "    \n",
    "        \n",
    "\n",
    "\n",
    "    \n",
    "\n"
   ]
  },
  {
   "cell_type": "code",
   "execution_count": null,
   "metadata": {},
   "outputs": [],
   "source": [
    "\n",
    "s = \"a\"\n",
    "s2 = \"a2\"\n",
    "\n",
    "for _ in range(len(s2)):\n",
    "    print(s2)"
   ]
  },
  {
   "cell_type": "code",
   "execution_count": null,
   "metadata": {},
   "outputs": [],
   "source": [
    "s      = \"abc\"\n",
    "#index:   0 1 2 #<- index는 항상 0에서 시작함\n",
    "#index:  -3-2-1 #<- 마지막 요소의 index는 항상 -1\n",
    "\n",
    "s[0] #-> \"a\"를 가져옴\n",
    "s[1] #-> \"b\"를 가져옴\n",
    "s[2] #-> \"c\"를 가져옴\n",
    "#s[3] -> 범위를 벗어난 index, error\n",
    "s[-1] #-> \"c\"를 가져옴\n",
    "s[-2] #-> \"b\"를 가져옴\n",
    "s[-3] #-> \"a\"를 가져옴\n",
    "s2 = \"\"\n",
    "for i in range(-len(s), 0):\n",
    "    s2 = s2 + s[i]\n",
    "    \n",
    "print(s2)    "
   ]
  },
  {
   "cell_type": "code",
   "execution_count": null,
   "metadata": {},
   "outputs": [],
   "source": [
    "target = \"Yesterday, all my troubles seems so far away\"\n",
    "result = \"\"\n",
    "result2 = target[::-1]\n",
    "\n",
    "index = len(target)\n",
    "for s in target:\n",
    "    result += target[index -1]\n",
    "    index -= 1\n",
    "\n",
    "print(result)\n",
    "print(result2)"
   ]
  },
  {
   "cell_type": "code",
   "execution_count": null,
   "metadata": {},
   "outputs": [],
   "source": [
    "result2 = target[0:9]\n",
    "print(result2)\n",
    "result3 = target[0:8:2]\n",
    "print(result3)\n",
    "\n",
    "for s in target:\n",
    "    print(s)"
   ]
  },
  {
   "cell_type": "code",
   "execution_count": 81,
   "metadata": {},
   "outputs": [
    {
     "name": "stdout",
     "output_type": "stream",
     "text": [
      "Cube root of 8 is, guess\n"
     ]
    }
   ],
   "source": [
    "cube = 8\n",
    "for guess in range(cube + 1):\n",
    "    if guess**3 == cube:\n",
    "        print(\"Cube root of\", cube, \"is, guess\")"
   ]
  },
  {
   "cell_type": "code",
   "execution_count": 82,
   "metadata": {},
   "outputs": [
    {
     "name": "stdout",
     "output_type": "stream",
     "text": [
      "Cube root of 8 is 2\n"
     ]
    }
   ],
   "source": [
    "cube = 8\n",
    "for guess in range(abs(cube)+1):\n",
    "    if guess**3 >= abs(cube):\n",
    "        break\n",
    "if guess**3 != abs(cube):\n",
    "    print(cube, 'is not a perfect cube')\n",
    "else:\n",
    "    if cube < 0:\n",
    "        guess = -guess\n",
    "    print('Cube root of '+str(cube)+' is '+str(guess))"
   ]
  },
  {
   "cell_type": "code",
   "execution_count": 88,
   "metadata": {},
   "outputs": [
    {
     "name": "stdout",
     "output_type": "stream",
     "text": [
      "num_guesses =  2999630\n",
      "2.9996300000653777 us close to the cube root of 27\n"
     ]
    }
   ],
   "source": [
    "cube = 27\n",
    "epsilon = 0.01\n",
    "guess = 0.0\n",
    "increment = 0.000001\n",
    "num_guesses = 0\n",
    "\n",
    "while abs(guess**3 - cube) >= epsilon and guess <= cube:\n",
    "    guess += increment\n",
    "    num_guesses += 1\n",
    "\n",
    "print('num_guesses = ', num_guesses)\n",
    "\n",
    "if abs(guess**3 - cube) >= epsilon:\n",
    "    print('Failed on cobe root of', cube)\n",
    "else:\n",
    "    print(guess, 'us close to the cube root of', cube)"
   ]
  },
  {
   "cell_type": "code",
   "execution_count": 89,
   "metadata": {},
   "outputs": [
    {
     "name": "stdout",
     "output_type": "stream",
     "text": [
      "num_guess = 2999644\n",
      "3.000091552734375 is close to the cobe root of 27\n"
     ]
    }
   ],
   "source": [
    "cube = 27\n",
    "epsilon = 0.01\n",
    "num_glasses = 0\n",
    "low = 0\n",
    "high = cube\n",
    "guess = (high + low) / 2.0\n",
    "\n",
    "while abs(guess**3 - cube) >= epsilon:\n",
    "    if guess**3 < cube:\n",
    "        low = guess\n",
    "    else:\n",
    "        high = guess\n",
    "    guess = (high + low) / 2.0\n",
    "    num_guesses += 1\n",
    "print('num_guess =', num_guesses)\n",
    "print(guess, 'is close to the cobe root of', cube)"
   ]
  },
  {
   "cell_type": "code",
   "execution_count": 121,
   "metadata": {},
   "outputs": [
    {
     "name": "stdout",
     "output_type": "stream",
     "text": [
      "num_guess = 3000065\n",
      "3.0 is close to the cobe root of 27\n"
     ]
    }
   ],
   "source": [
    "cube = 27\n",
    "epsilon = 0.000000000000000000000000001\n",
    "num_glasses = 0\n",
    "low = 0\n",
    "high = cube\n",
    "guess = (high + low) / 2.0\n",
    "\n",
    "while abs(guess**3 - cube) >= epsilon:\n",
    "    if guess**3 < cube:\n",
    "        low = guess\n",
    "    else:\n",
    "        high = guess\n",
    "    guess = (high + low) / 2.0\n",
    "    num_guesses += 1\n",
    "print('num_guess =', num_guesses)\n",
    "print(guess, 'is close to the cobe root of', cube)"
   ]
  },
  {
   "cell_type": "markdown",
   "metadata": {},
   "source": [
    "정렬된 리스트에 순서에 맞게 숫자를 집어넣는 방법"
   ]
  },
  {
   "cell_type": "code",
   "execution_count": 120,
   "metadata": {},
   "outputs": [
    {
     "ename": "KeyboardInterrupt",
     "evalue": "",
     "output_type": "error",
     "traceback": [
      "\u001b[0;31m---------------------------------------------------------------------------\u001b[0m",
      "\u001b[0;31mKeyboardInterrupt\u001b[0m                         Traceback (most recent call last)",
      "\u001b[1;32m/home/jeongeunsu/문서/NHN_git_test/NHN_Academy/week8/day2 1017/Practice/Practice_python.ipynb 셀 21\u001b[0m line \u001b[0;36m9\n\u001b[1;32m      <a href='vscode-notebook-cell:/home/jeongeunsu/%EB%AC%B8%EC%84%9C/NHN_git_test/NHN_Academy/week8/day2%201017/Practice/Practice_python.ipynb#X30sZmlsZQ%3D%3D?line=5'>6</a>\u001b[0m high \u001b[39m=\u001b[39m \u001b[39mlen\u001b[39m(nums)\u001b[39m-\u001b[39m\u001b[39m1\u001b[39m\n\u001b[1;32m      <a href='vscode-notebook-cell:/home/jeongeunsu/%EB%AC%B8%EC%84%9C/NHN_git_test/NHN_Academy/week8/day2%201017/Practice/Practice_python.ipynb#X30sZmlsZQ%3D%3D?line=6'>7</a>\u001b[0m guess \u001b[39m=\u001b[39m \u001b[39mround\u001b[39m((high \u001b[39m+\u001b[39m low)\u001b[39m/\u001b[39m\u001b[39m/\u001b[39m\u001b[39m2\u001b[39m)\n\u001b[0;32m----> <a href='vscode-notebook-cell:/home/jeongeunsu/%EB%AC%B8%EC%84%9C/NHN_git_test/NHN_Academy/week8/day2%201017/Practice/Practice_python.ipynb#X30sZmlsZQ%3D%3D?line=8'>9</a>\u001b[0m \u001b[39mwhile\u001b[39;00m (high \u001b[39m-\u001b[39m low \u001b[39m+\u001b[39m \u001b[39m1\u001b[39m) \u001b[39m>\u001b[39m \u001b[39m2\u001b[39m:\n\u001b[1;32m     <a href='vscode-notebook-cell:/home/jeongeunsu/%EB%AC%B8%EC%84%9C/NHN_git_test/NHN_Academy/week8/day2%201017/Practice/Practice_python.ipynb#X30sZmlsZQ%3D%3D?line=9'>10</a>\u001b[0m     \u001b[39mif\u001b[39;00m(nums[guess] \u001b[39m<\u001b[39m\u001b[39m=\u001b[39m result):\n\u001b[1;32m     <a href='vscode-notebook-cell:/home/jeongeunsu/%EB%AC%B8%EC%84%9C/NHN_git_test/NHN_Academy/week8/day2%201017/Practice/Practice_python.ipynb#X30sZmlsZQ%3D%3D?line=10'>11</a>\u001b[0m         low \u001b[39m=\u001b[39m guess\n",
      "\u001b[0;31mKeyboardInterrupt\u001b[0m: "
     ]
    }
   ],
   "source": [
    "nums = [1,2,3,4,5,6,7,8,9,10,11,12,13,14,15,16,17]\n",
    "\n",
    "result = 14\n",
    "epsilon = 0.000001\n",
    "low = 0\n",
    "high = len(nums)-1\n",
    "guess = round((high + low)//2)\n",
    "\n",
    "while (high - low + 1) > 2:\n",
    "    if(nums[guess] <= result):\n",
    "        low = guess\n",
    "    else : \n",
    "        high = guess\n",
    "\n",
    "nums.insert(guess+1,result)\n"
   ]
  },
  {
   "cell_type": "code",
   "execution_count": null,
   "metadata": {},
   "outputs": [],
   "source": []
  }
 ],
 "metadata": {
  "kernelspec": {
   "display_name": "base",
   "language": "python",
   "name": "python3"
  },
  "language_info": {
   "codemirror_mode": {
    "name": "ipython",
    "version": 3
   },
   "file_extension": ".py",
   "mimetype": "text/x-python",
   "name": "python",
   "nbconvert_exporter": "python",
   "pygments_lexer": "ipython3",
   "version": "3.9.18"
  }
 },
 "nbformat": 4,
 "nbformat_minor": 2
}
