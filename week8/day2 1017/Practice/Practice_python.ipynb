{
 "cells": [
  {
   "cell_type": "code",
   "execution_count": null,
   "metadata": {},
   "outputs": [],
   "source": [
    "\n",
    "drive = True\n",
    "drink = False\n",
    "\n",
    "\n",
    "print(drive and drink)\n"
   ]
  },
  {
   "cell_type": "code",
   "execution_count": null,
   "metadata": {},
   "outputs": [],
   "source": [
    "# /s = 1aBcdef\n",
    "target = \"AbcDeFGHIjkLmnoPQrSTUVwxYz\"\n",
    "result = \"\"\n",
    "\n",
    "\n",
    "for s in target:\n",
    "    if ord(s) >= 97 and ord(s) <= 122:\n",
    "        result = result + chr(ord(s) - 32)\n",
    "    else:\n",
    "        result = result + chr(ord(s) + 32)\n",
    "        \n",
    "print(result)"
   ]
  },
  {
   "cell_type": "code",
   "execution_count": null,
   "metadata": {},
   "outputs": [],
   "source": []
  },
  {
   "cell_type": "code",
   "execution_count": null,
   "metadata": {},
   "outputs": [],
   "source": [
    "#  구구단 출력\n",
    "\n",
    "i = 2\n",
    "while(i <= 9):\n",
    "    s = 1\n",
    "    while(s <= 9):\n",
    "        result = i * s\n",
    "        print (i ,\" * \",s ,\" = \", result)\n",
    "        s = s + 1\n",
    "\n",
    "    print()     \n",
    "    i = i + 1   "
   ]
  },
  {
   "cell_type": "markdown",
   "metadata": {},
   "source": []
  },
  {
   "cell_type": "code",
   "execution_count": null,
   "metadata": {},
   "outputs": [],
   "source": [
    "for i in range(2,9):\n",
    "    for j in range(1,10):\n",
    "        print(i,j,i*j)\n",
    "    print()    "
   ]
  },
  {
   "cell_type": "code",
   "execution_count": 26,
   "metadata": {},
   "outputs": [
    {
     "name": "stdout",
     "output_type": "stream",
     "text": [
      "2\n",
      "3\n",
      "5\n",
      "7\n"
     ]
    }
   ],
   "source": [
    "# 1 ~ 10사이의 소수 구하기\n",
    "\n",
    "\n",
    "for i in range(1,10):\n",
    "    if(i==1): continue\n",
    "    if(i==2): print(i)\n",
    "    if(i%2 == 0) : continue\n",
    "    else :\n",
    "        nu = True \n",
    "        for j in range(2,i-1):\n",
    "            if i % j == 0: nu = False\n",
    "        if nu == True:\n",
    "            print(i)\n",
    "            \n"
   ]
  },
  {
   "cell_type": "code",
   "execution_count": null,
   "metadata": {},
   "outputs": [],
   "source": [
    "x = 4\n",
    "ans = 0\n",
    "\n",
    "while ans ** 2 < x:\n",
    "    ans = ans + 1\n",
    "if ans ** 2 == x:\n",
    "    print(\"it's a prime number\")\n",
    "else:\n",
    "    print(\"not a prime number\")"
   ]
  },
  {
   "cell_type": "code",
   "execution_count": null,
   "metadata": {},
   "outputs": [],
   "source": [
    "# 소인수분해\n",
    "x = 10\n",
    "\n",
    "for i in range(2, x+1):\n",
    "    for j in range(2, i+1):\n",
    "        if(i == j):\n",
    "            print (i)\n",
    "        if(i % j == 0):\n",
    "            break\n",
    "        \n",
    "        \n",
    "        \n",
    "if x % i == 0:\n",
    "    print(i)\n",
    "    x = x // i"
   ]
  },
  {
   "cell_type": "code",
   "execution_count": 52,
   "metadata": {},
   "outputs": [
    {
     "name": "stdout",
     "output_type": "stream",
     "text": [
      "998872772  은(는) 완전제곱수가 아닙니다.\n"
     ]
    }
   ],
   "source": [
    "# 완전제곱수\n",
    "\n",
    "\n",
    "\n",
    "n = 998872772\n",
    "\n",
    "\n",
    "\n",
    "for i in range(1,n):\n",
    "    if((i*i) == n):\n",
    "        print(i)\n",
    "        print(n,\" 은(는) 완전제곱수 입니다.\")\n",
    "        break\n",
    "    elif((i*i) > n): \n",
    "        print(n,\" 은(는) 완전제곱수가 아닙니다.\")\n",
    "        break\n",
    "    \n",
    "        \n",
    "\n",
    "\n",
    "    \n",
    "\n"
   ]
  },
  {
   "cell_type": "code",
   "execution_count": 54,
   "metadata": {},
   "outputs": [
    {
     "name": "stdout",
     "output_type": "stream",
     "text": [
      "a2\n",
      "a2\n"
     ]
    }
   ],
   "source": [
    "\n",
    "s = \"a\"\n",
    "s2 = \"a2\"\n",
    "\n",
    "for _ in range(len(s2)):\n",
    "    print(s2)"
   ]
  },
  {
   "cell_type": "code",
   "execution_count": 74,
   "metadata": {},
   "outputs": [
    {
     "name": "stdout",
     "output_type": "stream",
     "text": [
      "abc\n"
     ]
    }
   ],
   "source": [
    "s      = \"abc\"\n",
    "#index:   0 1 2 #<- index는 항상 0에서 시작함\n",
    "#index:  -3-2-1 #<- 마지막 요소의 index는 항상 -1\n",
    "\n",
    "s[0] #-> \"a\"를 가져옴\n",
    "s[1] #-> \"b\"를 가져옴\n",
    "s[2] #-> \"c\"를 가져옴\n",
    "#s[3] -> 범위를 벗어난 index, error\n",
    "s[-1] #-> \"c\"를 가져옴\n",
    "s[-2] #-> \"b\"를 가져옴\n",
    "s[-3] #-> \"a\"를 가져옴\n",
    "s2 = \"\"\n",
    "for i in range(-len(s), 0):\n",
    "    s2 = s2 + s[i]\n",
    "    \n",
    "print(s2)    "
   ]
  },
  {
   "cell_type": "code",
   "execution_count": 75,
   "metadata": {},
   "outputs": [
    {
     "name": "stdout",
     "output_type": "stream",
     "text": [
      "yawa raf os smees selbuort ym lla ,yadretseY\n",
      "yawa raf os smees selbuort ym lla ,yadretseY\n"
     ]
    }
   ],
   "source": [
    "target = \"Yesterday, all my troubles seems so far away\"\n",
    "result = \"\"\n",
    "result2 = target[::-1]\n",
    "\n",
    "index = len(target)\n",
    "for s in target:\n",
    "    result += target[index -1]\n",
    "    index -= 1\n",
    "\n",
    "print(result)\n",
    "print(result2)"
   ]
  },
  {
   "cell_type": "code",
   "execution_count": 80,
   "metadata": {},
   "outputs": [
    {
     "name": "stdout",
     "output_type": "stream",
     "text": [
      "Yesterday\n",
      "Ysed\n",
      "Y\n",
      "e\n",
      "s\n",
      "t\n",
      "e\n",
      "r\n",
      "d\n",
      "a\n",
      "y\n",
      ",\n",
      " \n",
      "a\n",
      "l\n",
      "l\n",
      " \n",
      "m\n",
      "y\n",
      " \n",
      "t\n",
      "r\n",
      "o\n",
      "u\n",
      "b\n",
      "l\n",
      "e\n",
      "s\n",
      " \n",
      "s\n",
      "e\n",
      "e\n",
      "m\n",
      "s\n",
      " \n",
      "s\n",
      "o\n",
      " \n",
      "f\n",
      "a\n",
      "r\n",
      " \n",
      "a\n",
      "w\n",
      "a\n",
      "y\n"
     ]
    }
   ],
   "source": [
    "result2 = target[0:9]\n",
    "print(result2)\n",
    "result3 = target[0:8:2]\n",
    "print(result3)\n",
    "\n",
    "for s in target:\n",
    "    print(s)"
   ]
  },
  {
   "cell_type": "code",
   "execution_count": null,
   "metadata": {},
   "outputs": [],
   "source": []
  }
 ],
 "metadata": {
  "kernelspec": {
   "display_name": "base",
   "language": "python",
   "name": "python3"
  },
  "language_info": {
   "codemirror_mode": {
    "name": "ipython",
    "version": 3
   },
   "file_extension": ".py",
   "mimetype": "text/x-python",
   "name": "python",
   "nbconvert_exporter": "python",
   "pygments_lexer": "ipython3",
   "version": "3.9.18"
  }
 },
 "nbformat": 4,
 "nbformat_minor": 2
}
